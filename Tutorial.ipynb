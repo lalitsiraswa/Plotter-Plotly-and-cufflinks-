{
 "cells": [
  {
   "cell_type": "code",
   "execution_count": 1,
   "metadata": {},
   "outputs": [],
   "source": [
    "import numpy as np\n",
    "import pandas as pd\n",
    "import plotly as pl\n",
    "import cufflinks as cf\n",
    "import plotly.offline as po\n",
    "%matplotlib inline"
   ]
  },
  {
   "cell_type": "code",
   "execution_count": 2,
   "metadata": {},
   "outputs": [
    {
     "data": {
      "text/html": [
       "        <script type=\"text/javascript\">\n",
       "        window.PlotlyConfig = {MathJaxConfig: 'local'};\n",
       "        if (window.MathJax) {MathJax.Hub.Config({SVG: {font: \"STIX-Web\"}});}\n",
       "        if (typeof require !== 'undefined') {\n",
       "        require.undef(\"plotly\");\n",
       "        requirejs.config({\n",
       "            paths: {\n",
       "                'plotly': ['https://cdn.plot.ly/plotly-latest.min']\n",
       "            }\n",
       "        });\n",
       "        require(['plotly'], function(Plotly) {\n",
       "            window._Plotly = Plotly;\n",
       "        });\n",
       "        }\n",
       "        </script>\n",
       "        "
      ]
     },
     "metadata": {},
     "output_type": "display_data"
    }
   ],
   "source": [
    "po.init_notebook_mode(connected = True)"
   ]
  },
  {
   "cell_type": "code",
   "execution_count": 3,
   "metadata": {},
   "outputs": [
    {
     "data": {
      "text/html": [
       "        <script type=\"text/javascript\">\n",
       "        window.PlotlyConfig = {MathJaxConfig: 'local'};\n",
       "        if (window.MathJax) {MathJax.Hub.Config({SVG: {font: \"STIX-Web\"}});}\n",
       "        if (typeof require !== 'undefined') {\n",
       "        require.undef(\"plotly\");\n",
       "        requirejs.config({\n",
       "            paths: {\n",
       "                'plotly': ['https://cdn.plot.ly/plotly-latest.min']\n",
       "            }\n",
       "        });\n",
       "        require(['plotly'], function(Plotly) {\n",
       "            window._Plotly = Plotly;\n",
       "        });\n",
       "        }\n",
       "        </script>\n",
       "        "
      ]
     },
     "metadata": {},
     "output_type": "display_data"
    }
   ],
   "source": [
    "cf.go_offline()"
   ]
  },
  {
   "cell_type": "code",
   "execution_count": 4,
   "metadata": {},
   "outputs": [],
   "source": [
    "def createData(data):\n",
    "    if data == 1:\n",
    "        x = np.random.rand(100, 5)\n",
    "        df = pd.DataFrame(x, columns = [\"A\", \"B\", \"C\", \"D\", \"E\"])\n",
    "    elif data == 2:\n",
    "        x = [0, 0, 0, 0, 0]\n",
    "        r1 = [0, 0, 0, 0, 0]\n",
    "        r2 = [0, 0, 0, 0, 0]\n",
    "        r3 = [0, 0, 0, 0, 0]\n",
    "        r4 = [0, 0, 0, 0, 0]\n",
    "        print(\"Enter the values for columns\")\n",
    "        for i in range(len(x)):\n",
    "            x[i] = input()\n",
    "            \n",
    "        print(\"Enter the value for first row\")\n",
    "        for i in range(len(r1)):\n",
    "            r1[i] = int(input())\n",
    "            \n",
    "        print(\"Enter the value for second row\")\n",
    "        for i in range(len(r2)):\n",
    "            r2[i] = int(input())\n",
    "            \n",
    "        print(\"Enter the value for third row\")\n",
    "        for i in range(len(r3)):\n",
    "            r3[i] = int(input())\n",
    "            \n",
    "        print(\"Enter the value for fourth row\")\n",
    "        for i in range(len(r4)):\n",
    "            r4[i] = int(input())\n",
    "            \n",
    "        df = pd.DataFrame([r1, r2, r3, r4], columns = x)\n",
    "    elif data == 3:\n",
    "        file = input(\"Enter file Name : \")\n",
    "        x = pd.read_csv(file)\n",
    "        df = pd.DataFrame(x)\n",
    "    else:\n",
    "        print(\"DatFrame Creation Failed try again and Please Enter in between 1, 2 or 3\")\n",
    "        return\n",
    "    return df"
   ]
  },
  {
   "cell_type": "code",
   "execution_count": 5,
   "metadata": {},
   "outputs": [],
   "source": [
    "def plotter(plot):\n",
    "    if plot == 1:\n",
    "        finalPlot = df.iplot(kind = \"line\")\n",
    "    elif plot == 2:\n",
    "        finalPlot = df.iplot(kind = \"scatter\", mode = \"markers\", symbol = \"x\", colorscale = \"paired\")\n",
    "    elif plot == 3:\n",
    "        finalPlot = df.iplot(kind = \"bar\")\n",
    "    elif plot == 4:\n",
    "        finalPlot = df.iplot(kind = \"hist\")\n",
    "    elif plot == 5:\n",
    "        finalPlot = df.iplot(kind = \"box\")\n",
    "    elif plot == 6:\n",
    "        finalPlot = df.iplot(kind = \"surface\")\n",
    "    else:\n",
    "        finalPlot = print(\"Select only between 1 to 7\")\n",
    "    return finalPlot"
   ]
  },
  {
   "cell_type": "code",
   "execution_count": 14,
   "metadata": {},
   "outputs": [],
   "source": [
    "def plotter2(plot):\n",
    "    col = int(input(\"Enter the numbers of columns you wan't to plot by selecting only 1, 2 or 3 : \"))\n",
    "    if col == 1:\n",
    "        cols = input(\"Enter the column you want to plot by selecting any column from DataFrame head\")\n",
    "        if plot == 1:\n",
    "            finalPlot = df[cols].iplot(kind = \"line\")\n",
    "        elif plot == 2:\n",
    "            finalPlot = df[cols].iplot(kind = \"scatter\", mode = \"markers\", colorscale = \"paired\", symbol = \"x\")\n",
    "        elif plot == 3:\n",
    "            finalPlot = df[cols].iplot(kind = \"bar\")\n",
    "        elif plot == 4:\n",
    "            finalPlot = df[cols].iplot(kind = \"hist\")\n",
    "        elif plot == 5:\n",
    "            finalPlot = df[cols].iplot(kind = \"box\")\n",
    "        elif (plot == 6) or (plot == 7):\n",
    "            finalPlot = print(\"Bubble plot and Surface plot require more than 1 columns argument\")\n",
    "        else:\n",
    "            finalPlot = print(\"Select only between 1 to 7\")\n",
    "            \n",
    "    elif col == 2:\n",
    "        print(\"Enter the column you want to plot by selecting any column from DataFrame head\")\n",
    "        columnsList = []\n",
    "        columnsList.append(input(\"First Column : \"))\n",
    "        columnsList.append(input(\"Second Column : \"))\n",
    "        if plot == 1:\n",
    "            finalPlot = df[columnsList].iplot(kind = \"line\")\n",
    "        elif plot == 2:\n",
    "            finalPlot = df[columnsList].iplot(kind = \"scatter\", mode = \"markers\", colorscale = \"paired\", symbol = \"x\")\n",
    "        elif plot == 3:\n",
    "            finalPlot = df[columnsList].iplot(kind = \"bar\")\n",
    "        elif plot == 4:\n",
    "            finalPlot = df[columnsList].iplot(kind = \"hist\")\n",
    "        elif plot == 5:\n",
    "            finalPlot = df[columnsList].iplot(kind = \"box\")\n",
    "        elif plot == 6:\n",
    "            finalPlot = df[columnsList].iplot(kind = \"surface\")\n",
    "        elif plot == 7:\n",
    "            siz = input(\"Please enter the size column from DataFrame head\")\n",
    "            finalPlot = df.iplot(kind = \"bubble\", x = columnsList[0], y = columnsList[1], size = siz)\n",
    "        else:\n",
    "            finalPlot = print(\"Select only between 1 to 7\")\n",
    "        \n",
    "    elif col == 3:\n",
    "        print(\"Enter the column you want to plot by selecting any column from DataFrame head\")\n",
    "        columnsList = []\n",
    "        columnsList.append(input(\"First Column : \"))\n",
    "        columnsList.append(input(\"Second Column : \"))\n",
    "        columnsList.append(input(\"Third Column : \"))\n",
    "\n",
    "        if plot == 1:\n",
    "            finalPlot = df[columnsList].iplot(kind = \"line\")\n",
    "        elif plot == 2:\n",
    "            finalPlot = df[columnsList].iplot(kind = \"scatter\", mode = \"markers\", colorscale = \"paired\", symbol = \"x\")\n",
    "        elif plot == 3:\n",
    "            finalPlot = df[columnsList].iplot(kind = \"bar\")\n",
    "        elif plot == 4:\n",
    "            finalPlot = df[columnsList].iplot(kind = \"hist\")\n",
    "        elif plot == 5:\n",
    "            finalPlot = df[columnsList].iplot(kind = \"box\")\n",
    "        elif plot == 6:\n",
    "            finalPlot = df[columnsList].iplot(kind = \"surface\")\n",
    "        elif plot == 7:\n",
    "            siz = input(\"Please enter the size column from DataFrame head\")\n",
    "            finalPlot = df.iplot(kind = \"bubble\", x = columnsList[0], y = columnsList[1], z = columnsList[2], size = siz)\n",
    "        else:\n",
    "            finalPlot = print(\"Select only between 1 to 7\")\n",
    "    else:\n",
    "        finalPlot = print(\"Please Enter Currect Number of columns!\")\n",
    "        return\n",
    "    return finalPlot"
   ]
  },
  {
   "cell_type": "code",
   "execution_count": 15,
   "metadata": {},
   "outputs": [],
   "source": [
    "def main(cat):\n",
    "    if cat == 1:\n",
    "        print(\"Select the type of plot you wan't to plot by writing 1 to 6\")\n",
    "        print(\"1. Line Plot\")\n",
    "        print(\"2. Scatter Plot\")\n",
    "        print(\"3. Bar Plot\")\n",
    "        print(\"4. Histogram\")\n",
    "        print(\"5. Box Plot\")\n",
    "        print(\"6. Sutface Plot\")\n",
    "        plot = int(input())\n",
    "        output = plotter(plot)\n",
    "        \n",
    "    elif cat == 2:\n",
    "        print(\"Select the type of plot you wan't to plot by writing 1 to 7\")\n",
    "        print(\"1. Line Plot\")\n",
    "        print(\"2. Scatter Plot\")\n",
    "        print(\"3. Bar Plot\")\n",
    "        print(\"4. Histogram\")\n",
    "        print(\"5. Box Plot\")\n",
    "        print(\"6. Surface Plot\")\n",
    "        print(\"7. Bubble Plot\")\n",
    "        plot = int(input())\n",
    "        output = plotter2(plot)\n",
    "    \n",
    "    else:\n",
    "        print(\"Please try again and Press 1 or 2\")"
   ]
  },
  {
   "cell_type": "code",
   "execution_count": 16,
   "metadata": {},
   "outputs": [
    {
     "name": "stdout",
     "output_type": "stream",
     "text": [
      "Select the type of data you need to plot(by writing 1, 2 or 3).\n",
      "1. Random Data With 100 Rows and 5 Columns.\n",
      "2. Customize DataFrame with 5 Columns and 4 Rows.\n",
      "3. Upload CSV/JSON/TXT file.\n",
      "1\n"
     ]
    }
   ],
   "source": [
    "print(\"Select the type of data you need to plot(by writing 1, 2 or 3).\")\n",
    "print(\"1. Random Data With 100 Rows and 5 Columns.\")\n",
    "print(\"2. Customize DataFrame with 5 Columns and 4 Rows.\")\n",
    "print(\"3. Upload CSV/JSON/TXT file.\")\n",
    "data = int(input())\n",
    "df = createData(data)"
   ]
  },
  {
   "cell_type": "code",
   "execution_count": 17,
   "metadata": {
    "scrolled": true
   },
   "outputs": [
    {
     "name": "stdout",
     "output_type": "stream",
     "text": [
      "Yout DataFrame head is given below check the columns to plot using cufflinks\n"
     ]
    },
    {
     "data": {
      "text/html": [
       "<div>\n",
       "<style scoped>\n",
       "    .dataframe tbody tr th:only-of-type {\n",
       "        vertical-align: middle;\n",
       "    }\n",
       "\n",
       "    .dataframe tbody tr th {\n",
       "        vertical-align: top;\n",
       "    }\n",
       "\n",
       "    .dataframe thead th {\n",
       "        text-align: right;\n",
       "    }\n",
       "</style>\n",
       "<table border=\"1\" class=\"dataframe\">\n",
       "  <thead>\n",
       "    <tr style=\"text-align: right;\">\n",
       "      <th></th>\n",
       "      <th>A</th>\n",
       "      <th>B</th>\n",
       "      <th>C</th>\n",
       "      <th>D</th>\n",
       "      <th>E</th>\n",
       "    </tr>\n",
       "  </thead>\n",
       "  <tbody>\n",
       "    <tr>\n",
       "      <th>0</th>\n",
       "      <td>0.456421</td>\n",
       "      <td>0.337286</td>\n",
       "      <td>0.306458</td>\n",
       "      <td>0.324745</td>\n",
       "      <td>0.238006</td>\n",
       "    </tr>\n",
       "    <tr>\n",
       "      <th>1</th>\n",
       "      <td>0.055636</td>\n",
       "      <td>0.952112</td>\n",
       "      <td>0.445197</td>\n",
       "      <td>0.241813</td>\n",
       "      <td>0.326758</td>\n",
       "    </tr>\n",
       "    <tr>\n",
       "      <th>2</th>\n",
       "      <td>0.983092</td>\n",
       "      <td>0.773443</td>\n",
       "      <td>0.236450</td>\n",
       "      <td>0.066465</td>\n",
       "      <td>0.549609</td>\n",
       "    </tr>\n",
       "    <tr>\n",
       "      <th>3</th>\n",
       "      <td>0.264390</td>\n",
       "      <td>0.669747</td>\n",
       "      <td>0.833194</td>\n",
       "      <td>0.813145</td>\n",
       "      <td>0.569393</td>\n",
       "    </tr>\n",
       "    <tr>\n",
       "      <th>4</th>\n",
       "      <td>0.761983</td>\n",
       "      <td>0.088321</td>\n",
       "      <td>0.614529</td>\n",
       "      <td>0.348975</td>\n",
       "      <td>0.291906</td>\n",
       "    </tr>\n",
       "  </tbody>\n",
       "</table>\n",
       "</div>"
      ],
      "text/plain": [
       "          A         B         C         D         E\n",
       "0  0.456421  0.337286  0.306458  0.324745  0.238006\n",
       "1  0.055636  0.952112  0.445197  0.241813  0.326758\n",
       "2  0.983092  0.773443  0.236450  0.066465  0.549609\n",
       "3  0.264390  0.669747  0.833194  0.813145  0.569393\n",
       "4  0.761983  0.088321  0.614529  0.348975  0.291906"
      ]
     },
     "execution_count": 17,
     "metadata": {},
     "output_type": "execute_result"
    }
   ],
   "source": [
    "print(\"Yout DataFrame head is given below check the columns to plot using cufflinks\")\n",
    "df.head()"
   ]
  },
  {
   "cell_type": "code",
   "execution_count": 18,
   "metadata": {},
   "outputs": [
    {
     "name": "stdout",
     "output_type": "stream",
     "text": [
      "What kind of plot you need, the complete data plot or columns plot\n",
      "Press 1 for ploting all columns or Press 2 for specifying columns to plot2\n"
     ]
    }
   ],
   "source": [
    "print(\"What kind of plot you need, the complete data plot or columns plot\")\n",
    "cat = int(input(\"Press 1 for ploting all columns or Press 2 for specifying columns to plot\"))"
   ]
  },
  {
   "cell_type": "code",
   "execution_count": 19,
   "metadata": {},
   "outputs": [
    {
     "name": "stdout",
     "output_type": "stream",
     "text": [
      "Select the type of plot you wan't to plot by writing 1 to 7\n",
      "1. Line Plot\n",
      "2. Scatter Plot\n",
      "3. Bar Plot\n",
      "4. Histogram\n",
      "5. Box Plot\n",
      "6. Surface Plot\n",
      "7. Bubble Plot\n",
      "7\n",
      "Enter the numbers of columns you wan't to plot by selecting only 1, 2 or 3 : 2\n",
      "Enter the column you want to plot by selecting any column from DataFrame head\n",
      "First Column : A\n",
      "Second Column : D\n",
      "Please enter the size column from DataFrame headE\n"
     ]
    },
    {
     "data": {
      "application/vnd.plotly.v1+json": {
       "config": {
        "linkText": "Export to plot.ly",
        "plotlyServerURL": "https://plot.ly",
        "showLink": true
       },
       "data": [
        {
         "marker": {
          "color": [
           "rgb(255, 153, 51)",
           "rgb(55, 128, 191)",
           "rgb(50, 171, 96)",
           "rgb(128, 0, 128)",
           "rgb(219, 64, 82)",
           "rgb(0, 128, 128)",
           "rgb(255, 255, 51)",
           "rgb(128, 128, 0)",
           "rgb(251, 128, 114)",
           "rgb(128, 177, 211)"
          ],
          "line": {
           "width": 1.3
          },
          "size": [
           35,
           44,
           67,
           69,
           40,
           47,
           53,
           32,
           62,
           99,
           35,
           36,
           61,
           20,
           42,
           81,
           30,
           98,
           78,
           102,
           108,
           22,
           30,
           103,
           15,
           99,
           58,
           12,
           80,
           74,
           30,
           47,
           73,
           68,
           98,
           43,
           54,
           27,
           81,
           109,
           77,
           102,
           41,
           28,
           12,
           77,
           96,
           34,
           97,
           15,
           72,
           72,
           42,
           78,
           45,
           28,
           13,
           24,
           103,
           91,
           41,
           61,
           63,
           104,
           43,
           58,
           108,
           104,
           67,
           93,
           79,
           70,
           53,
           75,
           61,
           42,
           64,
           72,
           60,
           67,
           79,
           112,
           59,
           24,
           38,
           23,
           52,
           63,
           87,
           99,
           99,
           104,
           34,
           73,
           98,
           65,
           110,
           60,
           36,
           47
          ],
          "symbol": "circle"
         },
         "mode": "markers",
         "text": "",
         "type": "scatter",
         "x": [
          0.4564209555215838,
          0.05563578718732176,
          0.983091831260432,
          0.26438957103204797,
          0.7619827287751085,
          0.34513449337383895,
          0.09538663806646086,
          0.31524773378168014,
          0.4027187094455662,
          0.950604167424619,
          0.27586783979976925,
          0.4480793299040775,
          0.04490048426314208,
          0.2559838098418449,
          0.32235988690337947,
          0.7087747447106938,
          0.9959157166681551,
          0.23074522383253593,
          0.41708578683861464,
          0.9538916795450024,
          0.2701228160685597,
          0.6680262378404006,
          0.5471801250844524,
          0.2523668899239281,
          0.11931467175739674,
          0.07783903301726469,
          0.3821899586278462,
          0.09909859969462642,
          0.6134474424960564,
          0.4047705978175241,
          0.3737872920273849,
          0.30932596672080115,
          0.4168942714337631,
          0.49507181614126794,
          0.871116457019949,
          0.08755659399400217,
          0.1968399910755183,
          0.5180217770100191,
          0.18660284257671356,
          0.45165623402621025,
          0.6132524612880247,
          0.5654505767647395,
          0.6353865118449312,
          0.5949367468052771,
          0.05479919403159561,
          0.7353905094378177,
          0.5956556231638327,
          0.12534926980091765,
          0.26219252947073846,
          0.9759429190366283,
          0.5241976050212098,
          0.526551248812577,
          0.19755229667207874,
          0.1220657458214941,
          0.02947723586358042,
          0.0646898341631803,
          0.6207247639765086,
          0.7122237720515028,
          0.26685749556417704,
          0.24812848838844725,
          0.4045343996085594,
          0.8790865139030803,
          0.29834824314260067,
          0.8473362879632835,
          0.9879631079706518,
          0.13401018007935817,
          0.729840007978426,
          0.4271930859059022,
          0.25062899790184734,
          0.8686874637884374,
          0.24243477837377037,
          0.961310073902978,
          0.5394759736732301,
          0.5615126575981066,
          0.06182062909274311,
          0.9417101416632669,
          0.14477220887169295,
          0.19878840923790808,
          0.6065026917937579,
          0.17041257260945963,
          0.6722160593796956,
          0.5684917108099058,
          0.585301555591231,
          0.5146452610306895,
          0.9326663267000869,
          0.9241230920349186,
          0.22556718681161758,
          0.7829898255200852,
          0.4501135903899349,
          0.7548945244248724,
          0.38536435401271885,
          0.4488934851231955,
          0.9492180231276592,
          0.09148138566747954,
          0.4314096739575465,
          0.9946271900596525,
          0.9103752930179493,
          0.330191389464771,
          0.5184085370269538,
          0.24521249980328075
         ],
         "y": [
          0.32474536538228926,
          0.24181314136199916,
          0.0664653243694,
          0.8131454400207698,
          0.3489753452484562,
          0.2046155972427668,
          0.09457471753468283,
          0.6723244692080791,
          0.6794081761031459,
          0.6864109725741823,
          0.5995310073270917,
          0.6707899034831474,
          0.33428038485933276,
          0.4436499367759066,
          0.6108426014208646,
          0.8979832061130839,
          0.9974651813644456,
          0.9514027621660825,
          0.3267674164927937,
          0.8323768642240014,
          0.3050581238061978,
          0.0718214269300288,
          0.39881325606615603,
          0.21046477918483675,
          0.8656744103338121,
          0.36799440138261374,
          0.7776785067205482,
          0.5118082911189352,
          0.46483466865007994,
          0.41847704992791157,
          0.40086317476434274,
          0.5066626092564508,
          0.29912087998301584,
          0.14700451328327147,
          0.0626439061542281,
          0.2923723798959472,
          0.9414487925036619,
          0.32076366324578953,
          0.8769355840632167,
          0.2553952064029297,
          0.8909408415784115,
          0.9752931847366768,
          0.8031521298730767,
          0.6426159489380894,
          0.8899866048565394,
          0.37982376700472187,
          0.4806501041241531,
          0.9713817100996935,
          0.9393190497133092,
          0.2873025006228279,
          0.44943973311126584,
          0.4291944505776142,
          0.6560020791010479,
          0.10667022590487352,
          0.31479513415928195,
          0.10874563251392211,
          0.7294001411893218,
          0.5030423348280337,
          0.36546155864629504,
          0.6342876947000966,
          0.19202935634283524,
          0.369209751683353,
          0.1538494094349423,
          0.46747793318009767,
          0.6157244668895792,
          0.13824513713983977,
          0.778371137582776,
          0.6737769792255947,
          0.7374834256626948,
          0.32172148609920637,
          0.11721069052191435,
          0.13169926265041698,
          0.253599010011737,
          0.9777911571345871,
          0.46786009584917687,
          0.8960235086484,
          0.707291342085485,
          0.21168504144302014,
          0.818708220884757,
          0.9820971085590792,
          0.7943875561807593,
          0.511279343281927,
          0.150316465325658,
          0.07403822240412228,
          0.2174247804468067,
          0.41254052964558796,
          0.7779788497623247,
          0.37657683702718203,
          0.7672550578901889,
          0.04491746555073206,
          0.8043354958557406,
          0.11875885468710357,
          0.751261730888196,
          0.2385859838655866,
          0.5562982017914739,
          0.33305700894809287,
          0.23310735910128288,
          0.17735750555207552,
          0.9379828742345121,
          0.9468460669964551
         ]
        }
       ],
       "layout": {
        "legend": {
         "bgcolor": "#F5F6F9",
         "font": {
          "color": "#4D5663"
         }
        },
        "paper_bgcolor": "#F5F6F9",
        "plot_bgcolor": "#F5F6F9",
        "template": {
         "data": {
          "bar": [
           {
            "error_x": {
             "color": "#2a3f5f"
            },
            "error_y": {
             "color": "#2a3f5f"
            },
            "marker": {
             "line": {
              "color": "#E5ECF6",
              "width": 0.5
             }
            },
            "type": "bar"
           }
          ],
          "barpolar": [
           {
            "marker": {
             "line": {
              "color": "#E5ECF6",
              "width": 0.5
             }
            },
            "type": "barpolar"
           }
          ],
          "carpet": [
           {
            "aaxis": {
             "endlinecolor": "#2a3f5f",
             "gridcolor": "white",
             "linecolor": "white",
             "minorgridcolor": "white",
             "startlinecolor": "#2a3f5f"
            },
            "baxis": {
             "endlinecolor": "#2a3f5f",
             "gridcolor": "white",
             "linecolor": "white",
             "minorgridcolor": "white",
             "startlinecolor": "#2a3f5f"
            },
            "type": "carpet"
           }
          ],
          "choropleth": [
           {
            "colorbar": {
             "outlinewidth": 0,
             "ticks": ""
            },
            "type": "choropleth"
           }
          ],
          "contour": [
           {
            "colorbar": {
             "outlinewidth": 0,
             "ticks": ""
            },
            "colorscale": [
             [
              0,
              "#0d0887"
             ],
             [
              0.1111111111111111,
              "#46039f"
             ],
             [
              0.2222222222222222,
              "#7201a8"
             ],
             [
              0.3333333333333333,
              "#9c179e"
             ],
             [
              0.4444444444444444,
              "#bd3786"
             ],
             [
              0.5555555555555556,
              "#d8576b"
             ],
             [
              0.6666666666666666,
              "#ed7953"
             ],
             [
              0.7777777777777778,
              "#fb9f3a"
             ],
             [
              0.8888888888888888,
              "#fdca26"
             ],
             [
              1,
              "#f0f921"
             ]
            ],
            "type": "contour"
           }
          ],
          "contourcarpet": [
           {
            "colorbar": {
             "outlinewidth": 0,
             "ticks": ""
            },
            "type": "contourcarpet"
           }
          ],
          "heatmap": [
           {
            "colorbar": {
             "outlinewidth": 0,
             "ticks": ""
            },
            "colorscale": [
             [
              0,
              "#0d0887"
             ],
             [
              0.1111111111111111,
              "#46039f"
             ],
             [
              0.2222222222222222,
              "#7201a8"
             ],
             [
              0.3333333333333333,
              "#9c179e"
             ],
             [
              0.4444444444444444,
              "#bd3786"
             ],
             [
              0.5555555555555556,
              "#d8576b"
             ],
             [
              0.6666666666666666,
              "#ed7953"
             ],
             [
              0.7777777777777778,
              "#fb9f3a"
             ],
             [
              0.8888888888888888,
              "#fdca26"
             ],
             [
              1,
              "#f0f921"
             ]
            ],
            "type": "heatmap"
           }
          ],
          "heatmapgl": [
           {
            "colorbar": {
             "outlinewidth": 0,
             "ticks": ""
            },
            "colorscale": [
             [
              0,
              "#0d0887"
             ],
             [
              0.1111111111111111,
              "#46039f"
             ],
             [
              0.2222222222222222,
              "#7201a8"
             ],
             [
              0.3333333333333333,
              "#9c179e"
             ],
             [
              0.4444444444444444,
              "#bd3786"
             ],
             [
              0.5555555555555556,
              "#d8576b"
             ],
             [
              0.6666666666666666,
              "#ed7953"
             ],
             [
              0.7777777777777778,
              "#fb9f3a"
             ],
             [
              0.8888888888888888,
              "#fdca26"
             ],
             [
              1,
              "#f0f921"
             ]
            ],
            "type": "heatmapgl"
           }
          ],
          "histogram": [
           {
            "marker": {
             "colorbar": {
              "outlinewidth": 0,
              "ticks": ""
             }
            },
            "type": "histogram"
           }
          ],
          "histogram2d": [
           {
            "colorbar": {
             "outlinewidth": 0,
             "ticks": ""
            },
            "colorscale": [
             [
              0,
              "#0d0887"
             ],
             [
              0.1111111111111111,
              "#46039f"
             ],
             [
              0.2222222222222222,
              "#7201a8"
             ],
             [
              0.3333333333333333,
              "#9c179e"
             ],
             [
              0.4444444444444444,
              "#bd3786"
             ],
             [
              0.5555555555555556,
              "#d8576b"
             ],
             [
              0.6666666666666666,
              "#ed7953"
             ],
             [
              0.7777777777777778,
              "#fb9f3a"
             ],
             [
              0.8888888888888888,
              "#fdca26"
             ],
             [
              1,
              "#f0f921"
             ]
            ],
            "type": "histogram2d"
           }
          ],
          "histogram2dcontour": [
           {
            "colorbar": {
             "outlinewidth": 0,
             "ticks": ""
            },
            "colorscale": [
             [
              0,
              "#0d0887"
             ],
             [
              0.1111111111111111,
              "#46039f"
             ],
             [
              0.2222222222222222,
              "#7201a8"
             ],
             [
              0.3333333333333333,
              "#9c179e"
             ],
             [
              0.4444444444444444,
              "#bd3786"
             ],
             [
              0.5555555555555556,
              "#d8576b"
             ],
             [
              0.6666666666666666,
              "#ed7953"
             ],
             [
              0.7777777777777778,
              "#fb9f3a"
             ],
             [
              0.8888888888888888,
              "#fdca26"
             ],
             [
              1,
              "#f0f921"
             ]
            ],
            "type": "histogram2dcontour"
           }
          ],
          "mesh3d": [
           {
            "colorbar": {
             "outlinewidth": 0,
             "ticks": ""
            },
            "type": "mesh3d"
           }
          ],
          "parcoords": [
           {
            "line": {
             "colorbar": {
              "outlinewidth": 0,
              "ticks": ""
             }
            },
            "type": "parcoords"
           }
          ],
          "pie": [
           {
            "automargin": true,
            "type": "pie"
           }
          ],
          "scatter": [
           {
            "marker": {
             "colorbar": {
              "outlinewidth": 0,
              "ticks": ""
             }
            },
            "type": "scatter"
           }
          ],
          "scatter3d": [
           {
            "line": {
             "colorbar": {
              "outlinewidth": 0,
              "ticks": ""
             }
            },
            "marker": {
             "colorbar": {
              "outlinewidth": 0,
              "ticks": ""
             }
            },
            "type": "scatter3d"
           }
          ],
          "scattercarpet": [
           {
            "marker": {
             "colorbar": {
              "outlinewidth": 0,
              "ticks": ""
             }
            },
            "type": "scattercarpet"
           }
          ],
          "scattergeo": [
           {
            "marker": {
             "colorbar": {
              "outlinewidth": 0,
              "ticks": ""
             }
            },
            "type": "scattergeo"
           }
          ],
          "scattergl": [
           {
            "marker": {
             "colorbar": {
              "outlinewidth": 0,
              "ticks": ""
             }
            },
            "type": "scattergl"
           }
          ],
          "scattermapbox": [
           {
            "marker": {
             "colorbar": {
              "outlinewidth": 0,
              "ticks": ""
             }
            },
            "type": "scattermapbox"
           }
          ],
          "scatterpolar": [
           {
            "marker": {
             "colorbar": {
              "outlinewidth": 0,
              "ticks": ""
             }
            },
            "type": "scatterpolar"
           }
          ],
          "scatterpolargl": [
           {
            "marker": {
             "colorbar": {
              "outlinewidth": 0,
              "ticks": ""
             }
            },
            "type": "scatterpolargl"
           }
          ],
          "scatterternary": [
           {
            "marker": {
             "colorbar": {
              "outlinewidth": 0,
              "ticks": ""
             }
            },
            "type": "scatterternary"
           }
          ],
          "surface": [
           {
            "colorbar": {
             "outlinewidth": 0,
             "ticks": ""
            },
            "colorscale": [
             [
              0,
              "#0d0887"
             ],
             [
              0.1111111111111111,
              "#46039f"
             ],
             [
              0.2222222222222222,
              "#7201a8"
             ],
             [
              0.3333333333333333,
              "#9c179e"
             ],
             [
              0.4444444444444444,
              "#bd3786"
             ],
             [
              0.5555555555555556,
              "#d8576b"
             ],
             [
              0.6666666666666666,
              "#ed7953"
             ],
             [
              0.7777777777777778,
              "#fb9f3a"
             ],
             [
              0.8888888888888888,
              "#fdca26"
             ],
             [
              1,
              "#f0f921"
             ]
            ],
            "type": "surface"
           }
          ],
          "table": [
           {
            "cells": {
             "fill": {
              "color": "#EBF0F8"
             },
             "line": {
              "color": "white"
             }
            },
            "header": {
             "fill": {
              "color": "#C8D4E3"
             },
             "line": {
              "color": "white"
             }
            },
            "type": "table"
           }
          ]
         },
         "layout": {
          "annotationdefaults": {
           "arrowcolor": "#2a3f5f",
           "arrowhead": 0,
           "arrowwidth": 1
          },
          "coloraxis": {
           "colorbar": {
            "outlinewidth": 0,
            "ticks": ""
           }
          },
          "colorscale": {
           "diverging": [
            [
             0,
             "#8e0152"
            ],
            [
             0.1,
             "#c51b7d"
            ],
            [
             0.2,
             "#de77ae"
            ],
            [
             0.3,
             "#f1b6da"
            ],
            [
             0.4,
             "#fde0ef"
            ],
            [
             0.5,
             "#f7f7f7"
            ],
            [
             0.6,
             "#e6f5d0"
            ],
            [
             0.7,
             "#b8e186"
            ],
            [
             0.8,
             "#7fbc41"
            ],
            [
             0.9,
             "#4d9221"
            ],
            [
             1,
             "#276419"
            ]
           ],
           "sequential": [
            [
             0,
             "#0d0887"
            ],
            [
             0.1111111111111111,
             "#46039f"
            ],
            [
             0.2222222222222222,
             "#7201a8"
            ],
            [
             0.3333333333333333,
             "#9c179e"
            ],
            [
             0.4444444444444444,
             "#bd3786"
            ],
            [
             0.5555555555555556,
             "#d8576b"
            ],
            [
             0.6666666666666666,
             "#ed7953"
            ],
            [
             0.7777777777777778,
             "#fb9f3a"
            ],
            [
             0.8888888888888888,
             "#fdca26"
            ],
            [
             1,
             "#f0f921"
            ]
           ],
           "sequentialminus": [
            [
             0,
             "#0d0887"
            ],
            [
             0.1111111111111111,
             "#46039f"
            ],
            [
             0.2222222222222222,
             "#7201a8"
            ],
            [
             0.3333333333333333,
             "#9c179e"
            ],
            [
             0.4444444444444444,
             "#bd3786"
            ],
            [
             0.5555555555555556,
             "#d8576b"
            ],
            [
             0.6666666666666666,
             "#ed7953"
            ],
            [
             0.7777777777777778,
             "#fb9f3a"
            ],
            [
             0.8888888888888888,
             "#fdca26"
            ],
            [
             1,
             "#f0f921"
            ]
           ]
          },
          "colorway": [
           "#636efa",
           "#EF553B",
           "#00cc96",
           "#ab63fa",
           "#FFA15A",
           "#19d3f3",
           "#FF6692",
           "#B6E880",
           "#FF97FF",
           "#FECB52"
          ],
          "font": {
           "color": "#2a3f5f"
          },
          "geo": {
           "bgcolor": "white",
           "lakecolor": "white",
           "landcolor": "#E5ECF6",
           "showlakes": true,
           "showland": true,
           "subunitcolor": "white"
          },
          "hoverlabel": {
           "align": "left"
          },
          "hovermode": "closest",
          "mapbox": {
           "style": "light"
          },
          "paper_bgcolor": "white",
          "plot_bgcolor": "#E5ECF6",
          "polar": {
           "angularaxis": {
            "gridcolor": "white",
            "linecolor": "white",
            "ticks": ""
           },
           "bgcolor": "#E5ECF6",
           "radialaxis": {
            "gridcolor": "white",
            "linecolor": "white",
            "ticks": ""
           }
          },
          "scene": {
           "xaxis": {
            "backgroundcolor": "#E5ECF6",
            "gridcolor": "white",
            "gridwidth": 2,
            "linecolor": "white",
            "showbackground": true,
            "ticks": "",
            "zerolinecolor": "white"
           },
           "yaxis": {
            "backgroundcolor": "#E5ECF6",
            "gridcolor": "white",
            "gridwidth": 2,
            "linecolor": "white",
            "showbackground": true,
            "ticks": "",
            "zerolinecolor": "white"
           },
           "zaxis": {
            "backgroundcolor": "#E5ECF6",
            "gridcolor": "white",
            "gridwidth": 2,
            "linecolor": "white",
            "showbackground": true,
            "ticks": "",
            "zerolinecolor": "white"
           }
          },
          "shapedefaults": {
           "line": {
            "color": "#2a3f5f"
           }
          },
          "ternary": {
           "aaxis": {
            "gridcolor": "white",
            "linecolor": "white",
            "ticks": ""
           },
           "baxis": {
            "gridcolor": "white",
            "linecolor": "white",
            "ticks": ""
           },
           "bgcolor": "#E5ECF6",
           "caxis": {
            "gridcolor": "white",
            "linecolor": "white",
            "ticks": ""
           }
          },
          "title": {
           "x": 0.05
          },
          "xaxis": {
           "automargin": true,
           "gridcolor": "white",
           "linecolor": "white",
           "ticks": "",
           "title": {
            "standoff": 15
           },
           "zerolinecolor": "white",
           "zerolinewidth": 2
          },
          "yaxis": {
           "automargin": true,
           "gridcolor": "white",
           "linecolor": "white",
           "ticks": "",
           "title": {
            "standoff": 15
           },
           "zerolinecolor": "white",
           "zerolinewidth": 2
          }
         }
        },
        "title": {
         "font": {
          "color": "#4D5663"
         }
        },
        "xaxis": {
         "gridcolor": "#E1E5ED",
         "showgrid": true,
         "tickfont": {
          "color": "#4D5663"
         },
         "title": {
          "font": {
           "color": "#4D5663"
          },
          "text": ""
         },
         "zerolinecolor": "#E1E5ED"
        },
        "yaxis": {
         "gridcolor": "#E1E5ED",
         "showgrid": true,
         "tickfont": {
          "color": "#4D5663"
         },
         "title": {
          "font": {
           "color": "#4D5663"
          },
          "text": ""
         },
         "zerolinecolor": "#E1E5ED"
        }
       }
      },
      "text/html": [
       "<div>\n",
       "        \n",
       "        \n",
       "            <div id=\"1852fa24-3092-49b9-b55f-93b49875be83\" class=\"plotly-graph-div\" style=\"height:525px; width:100%;\"></div>\n",
       "            <script type=\"text/javascript\">\n",
       "                require([\"plotly\"], function(Plotly) {\n",
       "                    window.PLOTLYENV=window.PLOTLYENV || {};\n",
       "                    window.PLOTLYENV.BASE_URL='https://plot.ly';\n",
       "                    \n",
       "                if (document.getElementById(\"1852fa24-3092-49b9-b55f-93b49875be83\")) {\n",
       "                    Plotly.newPlot(\n",
       "                        '1852fa24-3092-49b9-b55f-93b49875be83',\n",
       "                        [{\"marker\": {\"color\": [\"rgb(255, 153, 51)\", \"rgb(55, 128, 191)\", \"rgb(50, 171, 96)\", \"rgb(128, 0, 128)\", \"rgb(219, 64, 82)\", \"rgb(0, 128, 128)\", \"rgb(255, 255, 51)\", \"rgb(128, 128, 0)\", \"rgb(251, 128, 114)\", \"rgb(128, 177, 211)\"], \"line\": {\"width\": 1.3}, \"size\": [35, 44, 67, 69, 40, 47, 53, 32, 62, 99, 35, 36, 61, 20, 42, 81, 30, 98, 78, 102, 108, 22, 30, 103, 15, 99, 58, 12, 80, 74, 30, 47, 73, 68, 98, 43, 54, 27, 81, 109, 77, 102, 41, 28, 12, 77, 96, 34, 97, 15, 72, 72, 42, 78, 45, 28, 13, 24, 103, 91, 41, 61, 63, 104, 43, 58, 108, 104, 67, 93, 79, 70, 53, 75, 61, 42, 64, 72, 60, 67, 79, 112, 59, 24, 38, 23, 52, 63, 87, 99, 99, 104, 34, 73, 98, 65, 110, 60, 36, 47], \"symbol\": \"circle\"}, \"mode\": \"markers\", \"text\": \"\", \"type\": \"scatter\", \"x\": [0.4564209555215838, 0.05563578718732176, 0.983091831260432, 0.26438957103204797, 0.7619827287751085, 0.34513449337383895, 0.09538663806646086, 0.31524773378168014, 0.4027187094455662, 0.950604167424619, 0.27586783979976925, 0.4480793299040775, 0.04490048426314208, 0.2559838098418449, 0.32235988690337947, 0.7087747447106938, 0.9959157166681551, 0.23074522383253593, 0.41708578683861464, 0.9538916795450024, 0.2701228160685597, 0.6680262378404006, 0.5471801250844524, 0.2523668899239281, 0.11931467175739674, 0.07783903301726469, 0.3821899586278462, 0.09909859969462642, 0.6134474424960564, 0.4047705978175241, 0.3737872920273849, 0.30932596672080115, 0.4168942714337631, 0.49507181614126794, 0.871116457019949, 0.08755659399400217, 0.1968399910755183, 0.5180217770100191, 0.18660284257671356, 0.45165623402621025, 0.6132524612880247, 0.5654505767647395, 0.6353865118449312, 0.5949367468052771, 0.05479919403159561, 0.7353905094378177, 0.5956556231638327, 0.12534926980091765, 0.26219252947073846, 0.9759429190366283, 0.5241976050212098, 0.526551248812577, 0.19755229667207874, 0.1220657458214941, 0.02947723586358042, 0.0646898341631803, 0.6207247639765086, 0.7122237720515028, 0.26685749556417704, 0.24812848838844725, 0.4045343996085594, 0.8790865139030803, 0.29834824314260067, 0.8473362879632835, 0.9879631079706518, 0.13401018007935817, 0.729840007978426, 0.4271930859059022, 0.25062899790184734, 0.8686874637884374, 0.24243477837377037, 0.961310073902978, 0.5394759736732301, 0.5615126575981066, 0.06182062909274311, 0.9417101416632669, 0.14477220887169295, 0.19878840923790808, 0.6065026917937579, 0.17041257260945963, 0.6722160593796956, 0.5684917108099058, 0.585301555591231, 0.5146452610306895, 0.9326663267000869, 0.9241230920349186, 0.22556718681161758, 0.7829898255200852, 0.4501135903899349, 0.7548945244248724, 0.38536435401271885, 0.4488934851231955, 0.9492180231276592, 0.09148138566747954, 0.4314096739575465, 0.9946271900596525, 0.9103752930179493, 0.330191389464771, 0.5184085370269538, 0.24521249980328075], \"y\": [0.32474536538228926, 0.24181314136199916, 0.0664653243694, 0.8131454400207698, 0.3489753452484562, 0.2046155972427668, 0.09457471753468283, 0.6723244692080791, 0.6794081761031459, 0.6864109725741823, 0.5995310073270917, 0.6707899034831474, 0.33428038485933276, 0.4436499367759066, 0.6108426014208646, 0.8979832061130839, 0.9974651813644456, 0.9514027621660825, 0.3267674164927937, 0.8323768642240014, 0.3050581238061978, 0.0718214269300288, 0.39881325606615603, 0.21046477918483675, 0.8656744103338121, 0.36799440138261374, 0.7776785067205482, 0.5118082911189352, 0.46483466865007994, 0.41847704992791157, 0.40086317476434274, 0.5066626092564508, 0.29912087998301584, 0.14700451328327147, 0.0626439061542281, 0.2923723798959472, 0.9414487925036619, 0.32076366324578953, 0.8769355840632167, 0.2553952064029297, 0.8909408415784115, 0.9752931847366768, 0.8031521298730767, 0.6426159489380894, 0.8899866048565394, 0.37982376700472187, 0.4806501041241531, 0.9713817100996935, 0.9393190497133092, 0.2873025006228279, 0.44943973311126584, 0.4291944505776142, 0.6560020791010479, 0.10667022590487352, 0.31479513415928195, 0.10874563251392211, 0.7294001411893218, 0.5030423348280337, 0.36546155864629504, 0.6342876947000966, 0.19202935634283524, 0.369209751683353, 0.1538494094349423, 0.46747793318009767, 0.6157244668895792, 0.13824513713983977, 0.778371137582776, 0.6737769792255947, 0.7374834256626948, 0.32172148609920637, 0.11721069052191435, 0.13169926265041698, 0.253599010011737, 0.9777911571345871, 0.46786009584917687, 0.8960235086484, 0.707291342085485, 0.21168504144302014, 0.818708220884757, 0.9820971085590792, 0.7943875561807593, 0.511279343281927, 0.150316465325658, 0.07403822240412228, 0.2174247804468067, 0.41254052964558796, 0.7779788497623247, 0.37657683702718203, 0.7672550578901889, 0.04491746555073206, 0.8043354958557406, 0.11875885468710357, 0.751261730888196, 0.2385859838655866, 0.5562982017914739, 0.33305700894809287, 0.23310735910128288, 0.17735750555207552, 0.9379828742345121, 0.9468460669964551]}],\n",
       "                        {\"legend\": {\"bgcolor\": \"#F5F6F9\", \"font\": {\"color\": \"#4D5663\"}}, \"paper_bgcolor\": \"#F5F6F9\", \"plot_bgcolor\": \"#F5F6F9\", \"template\": {\"data\": {\"bar\": [{\"error_x\": {\"color\": \"#2a3f5f\"}, \"error_y\": {\"color\": \"#2a3f5f\"}, \"marker\": {\"line\": {\"color\": \"#E5ECF6\", \"width\": 0.5}}, \"type\": \"bar\"}], \"barpolar\": [{\"marker\": {\"line\": {\"color\": \"#E5ECF6\", \"width\": 0.5}}, \"type\": \"barpolar\"}], \"carpet\": [{\"aaxis\": {\"endlinecolor\": \"#2a3f5f\", \"gridcolor\": \"white\", \"linecolor\": \"white\", \"minorgridcolor\": \"white\", \"startlinecolor\": \"#2a3f5f\"}, \"baxis\": {\"endlinecolor\": \"#2a3f5f\", \"gridcolor\": \"white\", \"linecolor\": \"white\", \"minorgridcolor\": \"white\", \"startlinecolor\": \"#2a3f5f\"}, \"type\": \"carpet\"}], \"choropleth\": [{\"colorbar\": {\"outlinewidth\": 0, \"ticks\": \"\"}, \"type\": \"choropleth\"}], \"contour\": [{\"colorbar\": {\"outlinewidth\": 0, \"ticks\": \"\"}, \"colorscale\": [[0.0, \"#0d0887\"], [0.1111111111111111, \"#46039f\"], [0.2222222222222222, \"#7201a8\"], [0.3333333333333333, \"#9c179e\"], [0.4444444444444444, \"#bd3786\"], [0.5555555555555556, \"#d8576b\"], [0.6666666666666666, \"#ed7953\"], [0.7777777777777778, \"#fb9f3a\"], [0.8888888888888888, \"#fdca26\"], [1.0, \"#f0f921\"]], \"type\": \"contour\"}], \"contourcarpet\": [{\"colorbar\": {\"outlinewidth\": 0, \"ticks\": \"\"}, \"type\": \"contourcarpet\"}], \"heatmap\": [{\"colorbar\": {\"outlinewidth\": 0, \"ticks\": \"\"}, \"colorscale\": [[0.0, \"#0d0887\"], [0.1111111111111111, \"#46039f\"], [0.2222222222222222, \"#7201a8\"], [0.3333333333333333, \"#9c179e\"], [0.4444444444444444, \"#bd3786\"], [0.5555555555555556, \"#d8576b\"], [0.6666666666666666, \"#ed7953\"], [0.7777777777777778, \"#fb9f3a\"], [0.8888888888888888, \"#fdca26\"], [1.0, \"#f0f921\"]], \"type\": \"heatmap\"}], \"heatmapgl\": [{\"colorbar\": {\"outlinewidth\": 0, \"ticks\": \"\"}, \"colorscale\": [[0.0, \"#0d0887\"], [0.1111111111111111, \"#46039f\"], [0.2222222222222222, \"#7201a8\"], [0.3333333333333333, \"#9c179e\"], [0.4444444444444444, \"#bd3786\"], [0.5555555555555556, \"#d8576b\"], [0.6666666666666666, \"#ed7953\"], [0.7777777777777778, \"#fb9f3a\"], [0.8888888888888888, \"#fdca26\"], [1.0, \"#f0f921\"]], \"type\": \"heatmapgl\"}], \"histogram\": [{\"marker\": {\"colorbar\": {\"outlinewidth\": 0, \"ticks\": \"\"}}, \"type\": \"histogram\"}], \"histogram2d\": [{\"colorbar\": {\"outlinewidth\": 0, \"ticks\": \"\"}, \"colorscale\": [[0.0, \"#0d0887\"], [0.1111111111111111, \"#46039f\"], [0.2222222222222222, \"#7201a8\"], [0.3333333333333333, \"#9c179e\"], [0.4444444444444444, \"#bd3786\"], [0.5555555555555556, \"#d8576b\"], [0.6666666666666666, \"#ed7953\"], [0.7777777777777778, \"#fb9f3a\"], [0.8888888888888888, \"#fdca26\"], [1.0, \"#f0f921\"]], \"type\": \"histogram2d\"}], \"histogram2dcontour\": [{\"colorbar\": {\"outlinewidth\": 0, \"ticks\": \"\"}, \"colorscale\": [[0.0, \"#0d0887\"], [0.1111111111111111, \"#46039f\"], [0.2222222222222222, \"#7201a8\"], [0.3333333333333333, \"#9c179e\"], [0.4444444444444444, \"#bd3786\"], [0.5555555555555556, \"#d8576b\"], [0.6666666666666666, \"#ed7953\"], [0.7777777777777778, \"#fb9f3a\"], [0.8888888888888888, \"#fdca26\"], [1.0, \"#f0f921\"]], \"type\": \"histogram2dcontour\"}], \"mesh3d\": [{\"colorbar\": {\"outlinewidth\": 0, \"ticks\": \"\"}, \"type\": \"mesh3d\"}], \"parcoords\": [{\"line\": {\"colorbar\": {\"outlinewidth\": 0, \"ticks\": \"\"}}, \"type\": \"parcoords\"}], \"pie\": [{\"automargin\": true, \"type\": \"pie\"}], \"scatter\": [{\"marker\": {\"colorbar\": {\"outlinewidth\": 0, \"ticks\": \"\"}}, \"type\": \"scatter\"}], \"scatter3d\": [{\"line\": {\"colorbar\": {\"outlinewidth\": 0, \"ticks\": \"\"}}, \"marker\": {\"colorbar\": {\"outlinewidth\": 0, \"ticks\": \"\"}}, \"type\": \"scatter3d\"}], \"scattercarpet\": [{\"marker\": {\"colorbar\": {\"outlinewidth\": 0, \"ticks\": \"\"}}, \"type\": \"scattercarpet\"}], \"scattergeo\": [{\"marker\": {\"colorbar\": {\"outlinewidth\": 0, \"ticks\": \"\"}}, \"type\": \"scattergeo\"}], \"scattergl\": [{\"marker\": {\"colorbar\": {\"outlinewidth\": 0, \"ticks\": \"\"}}, \"type\": \"scattergl\"}], \"scattermapbox\": [{\"marker\": {\"colorbar\": {\"outlinewidth\": 0, \"ticks\": \"\"}}, \"type\": \"scattermapbox\"}], \"scatterpolar\": [{\"marker\": {\"colorbar\": {\"outlinewidth\": 0, \"ticks\": \"\"}}, \"type\": \"scatterpolar\"}], \"scatterpolargl\": [{\"marker\": {\"colorbar\": {\"outlinewidth\": 0, \"ticks\": \"\"}}, \"type\": \"scatterpolargl\"}], \"scatterternary\": [{\"marker\": {\"colorbar\": {\"outlinewidth\": 0, \"ticks\": \"\"}}, \"type\": \"scatterternary\"}], \"surface\": [{\"colorbar\": {\"outlinewidth\": 0, \"ticks\": \"\"}, \"colorscale\": [[0.0, \"#0d0887\"], [0.1111111111111111, \"#46039f\"], [0.2222222222222222, \"#7201a8\"], [0.3333333333333333, \"#9c179e\"], [0.4444444444444444, \"#bd3786\"], [0.5555555555555556, \"#d8576b\"], [0.6666666666666666, \"#ed7953\"], [0.7777777777777778, \"#fb9f3a\"], [0.8888888888888888, \"#fdca26\"], [1.0, \"#f0f921\"]], \"type\": \"surface\"}], \"table\": [{\"cells\": {\"fill\": {\"color\": \"#EBF0F8\"}, \"line\": {\"color\": \"white\"}}, \"header\": {\"fill\": {\"color\": \"#C8D4E3\"}, \"line\": {\"color\": \"white\"}}, \"type\": \"table\"}]}, \"layout\": {\"annotationdefaults\": {\"arrowcolor\": \"#2a3f5f\", \"arrowhead\": 0, \"arrowwidth\": 1}, \"coloraxis\": {\"colorbar\": {\"outlinewidth\": 0, \"ticks\": \"\"}}, \"colorscale\": {\"diverging\": [[0, \"#8e0152\"], [0.1, \"#c51b7d\"], [0.2, \"#de77ae\"], [0.3, \"#f1b6da\"], [0.4, \"#fde0ef\"], [0.5, \"#f7f7f7\"], [0.6, \"#e6f5d0\"], [0.7, \"#b8e186\"], [0.8, \"#7fbc41\"], [0.9, \"#4d9221\"], [1, \"#276419\"]], \"sequential\": [[0.0, \"#0d0887\"], [0.1111111111111111, \"#46039f\"], [0.2222222222222222, \"#7201a8\"], [0.3333333333333333, \"#9c179e\"], [0.4444444444444444, \"#bd3786\"], [0.5555555555555556, \"#d8576b\"], [0.6666666666666666, \"#ed7953\"], [0.7777777777777778, \"#fb9f3a\"], [0.8888888888888888, \"#fdca26\"], [1.0, \"#f0f921\"]], \"sequentialminus\": [[0.0, \"#0d0887\"], [0.1111111111111111, \"#46039f\"], [0.2222222222222222, \"#7201a8\"], [0.3333333333333333, \"#9c179e\"], [0.4444444444444444, \"#bd3786\"], [0.5555555555555556, \"#d8576b\"], [0.6666666666666666, \"#ed7953\"], [0.7777777777777778, \"#fb9f3a\"], [0.8888888888888888, \"#fdca26\"], [1.0, \"#f0f921\"]]}, \"colorway\": [\"#636efa\", \"#EF553B\", \"#00cc96\", \"#ab63fa\", \"#FFA15A\", \"#19d3f3\", \"#FF6692\", \"#B6E880\", \"#FF97FF\", \"#FECB52\"], \"font\": {\"color\": \"#2a3f5f\"}, \"geo\": {\"bgcolor\": \"white\", \"lakecolor\": \"white\", \"landcolor\": \"#E5ECF6\", \"showlakes\": true, \"showland\": true, \"subunitcolor\": \"white\"}, \"hoverlabel\": {\"align\": \"left\"}, \"hovermode\": \"closest\", \"mapbox\": {\"style\": \"light\"}, \"paper_bgcolor\": \"white\", \"plot_bgcolor\": \"#E5ECF6\", \"polar\": {\"angularaxis\": {\"gridcolor\": \"white\", \"linecolor\": \"white\", \"ticks\": \"\"}, \"bgcolor\": \"#E5ECF6\", \"radialaxis\": {\"gridcolor\": \"white\", \"linecolor\": \"white\", \"ticks\": \"\"}}, \"scene\": {\"xaxis\": {\"backgroundcolor\": \"#E5ECF6\", \"gridcolor\": \"white\", \"gridwidth\": 2, \"linecolor\": \"white\", \"showbackground\": true, \"ticks\": \"\", \"zerolinecolor\": \"white\"}, \"yaxis\": {\"backgroundcolor\": \"#E5ECF6\", \"gridcolor\": \"white\", \"gridwidth\": 2, \"linecolor\": \"white\", \"showbackground\": true, \"ticks\": \"\", \"zerolinecolor\": \"white\"}, \"zaxis\": {\"backgroundcolor\": \"#E5ECF6\", \"gridcolor\": \"white\", \"gridwidth\": 2, \"linecolor\": \"white\", \"showbackground\": true, \"ticks\": \"\", \"zerolinecolor\": \"white\"}}, \"shapedefaults\": {\"line\": {\"color\": \"#2a3f5f\"}}, \"ternary\": {\"aaxis\": {\"gridcolor\": \"white\", \"linecolor\": \"white\", \"ticks\": \"\"}, \"baxis\": {\"gridcolor\": \"white\", \"linecolor\": \"white\", \"ticks\": \"\"}, \"bgcolor\": \"#E5ECF6\", \"caxis\": {\"gridcolor\": \"white\", \"linecolor\": \"white\", \"ticks\": \"\"}}, \"title\": {\"x\": 0.05}, \"xaxis\": {\"automargin\": true, \"gridcolor\": \"white\", \"linecolor\": \"white\", \"ticks\": \"\", \"title\": {\"standoff\": 15}, \"zerolinecolor\": \"white\", \"zerolinewidth\": 2}, \"yaxis\": {\"automargin\": true, \"gridcolor\": \"white\", \"linecolor\": \"white\", \"ticks\": \"\", \"title\": {\"standoff\": 15}, \"zerolinecolor\": \"white\", \"zerolinewidth\": 2}}}, \"title\": {\"font\": {\"color\": \"#4D5663\"}}, \"xaxis\": {\"gridcolor\": \"#E1E5ED\", \"showgrid\": true, \"tickfont\": {\"color\": \"#4D5663\"}, \"title\": {\"font\": {\"color\": \"#4D5663\"}, \"text\": \"\"}, \"zerolinecolor\": \"#E1E5ED\"}, \"yaxis\": {\"gridcolor\": \"#E1E5ED\", \"showgrid\": true, \"tickfont\": {\"color\": \"#4D5663\"}, \"title\": {\"font\": {\"color\": \"#4D5663\"}, \"text\": \"\"}, \"zerolinecolor\": \"#E1E5ED\"}},\n",
       "                        {\"showLink\": true, \"linkText\": \"Export to plot.ly\", \"plotlyServerURL\": \"https://plot.ly\", \"responsive\": true}\n",
       "                    ).then(function(){\n",
       "                            \n",
       "var gd = document.getElementById('1852fa24-3092-49b9-b55f-93b49875be83');\n",
       "var x = new MutationObserver(function (mutations, observer) {{\n",
       "        var display = window.getComputedStyle(gd).display;\n",
       "        if (!display || display === 'none') {{\n",
       "            console.log([gd, 'removed!']);\n",
       "            Plotly.purge(gd);\n",
       "            observer.disconnect();\n",
       "        }}\n",
       "}});\n",
       "\n",
       "// Listen for the removal of the full notebook cells\n",
       "var notebookContainer = gd.closest('#notebook-container');\n",
       "if (notebookContainer) {{\n",
       "    x.observe(notebookContainer, {childList: true});\n",
       "}}\n",
       "\n",
       "// Listen for the clearing of the current output cell\n",
       "var outputEl = gd.closest('.output');\n",
       "if (outputEl) {{\n",
       "    x.observe(outputEl, {childList: true});\n",
       "}}\n",
       "\n",
       "                        })\n",
       "                };\n",
       "                });\n",
       "            </script>\n",
       "        </div>"
      ]
     },
     "metadata": {},
     "output_type": "display_data"
    }
   ],
   "source": [
    "main(cat)"
   ]
  }
 ],
 "metadata": {
  "kernelspec": {
   "display_name": "Python 3",
   "language": "python",
   "name": "python3"
  },
  "language_info": {
   "codemirror_mode": {
    "name": "ipython",
    "version": 3
   },
   "file_extension": ".py",
   "mimetype": "text/x-python",
   "name": "python",
   "nbconvert_exporter": "python",
   "pygments_lexer": "ipython3",
   "version": "3.7.1"
  }
 },
 "nbformat": 4,
 "nbformat_minor": 2
}
