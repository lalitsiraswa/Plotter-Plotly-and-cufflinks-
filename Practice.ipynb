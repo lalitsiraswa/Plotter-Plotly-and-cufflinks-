{
 "cells": [
  {
   "cell_type": "code",
   "execution_count": 1,
   "metadata": {},
   "outputs": [],
   "source": [
    "import numpy as np\n",
    "import pandas as pd\n",
    "import plotly as pl\n",
    "import plotly.offline as po\n",
    "import cufflinks as cf\n",
    "%matplotlib inline"
   ]
  },
  {
   "cell_type": "code",
   "execution_count": 2,
   "metadata": {},
   "outputs": [
    {
     "data": {
      "text/html": [
       "        <script type=\"text/javascript\">\n",
       "        window.PlotlyConfig = {MathJaxConfig: 'local'};\n",
       "        if (window.MathJax) {MathJax.Hub.Config({SVG: {font: \"STIX-Web\"}});}\n",
       "        if (typeof require !== 'undefined') {\n",
       "        require.undef(\"plotly\");\n",
       "        requirejs.config({\n",
       "            paths: {\n",
       "                'plotly': ['https://cdn.plot.ly/plotly-latest.min']\n",
       "            }\n",
       "        });\n",
       "        require(['plotly'], function(Plotly) {\n",
       "            window._Plotly = Plotly;\n",
       "        });\n",
       "        }\n",
       "        </script>\n",
       "        "
      ]
     },
     "metadata": {},
     "output_type": "display_data"
    }
   ],
   "source": [
    "po.init_notebook_mode(connected = True)"
   ]
  },
  {
   "cell_type": "code",
   "execution_count": 3,
   "metadata": {},
   "outputs": [
    {
     "data": {
      "text/html": [
       "        <script type=\"text/javascript\">\n",
       "        window.PlotlyConfig = {MathJaxConfig: 'local'};\n",
       "        if (window.MathJax) {MathJax.Hub.Config({SVG: {font: \"STIX-Web\"}});}\n",
       "        if (typeof require !== 'undefined') {\n",
       "        require.undef(\"plotly\");\n",
       "        requirejs.config({\n",
       "            paths: {\n",
       "                'plotly': ['https://cdn.plot.ly/plotly-latest.min']\n",
       "            }\n",
       "        });\n",
       "        require(['plotly'], function(Plotly) {\n",
       "            window._Plotly = Plotly;\n",
       "        });\n",
       "        }\n",
       "        </script>\n",
       "        "
      ]
     },
     "metadata": {},
     "output_type": "display_data"
    }
   ],
   "source": [
    "cf.go_offline()"
   ]
  },
  {
   "cell_type": "code",
   "execution_count": 4,
   "metadata": {},
   "outputs": [],
   "source": [
    "def dataLoad(dataChoice):\n",
    "    if dataChoice == 1:\n",
    "        df = pd.DataFrame(np.random.rand(100, 5), columns = [\"a\", \"b\", \"c\", \"d\", \"e\"])\n",
    "    elif dataChoice == 2:\n",
    "        print(\"Enter the values for columns name : \")\n",
    "        columnName = [input() for x in range(5)]\n",
    "        data = {columnName[0] : [], columnName[1] : [], columnName[2] : [], columnName[3] : [], columnName[4] : []}\n",
    "        print(\"Enter element of first row\")\n",
    "        for i in range(5):\n",
    "            data[columnName[i]].append(input())\n",
    "            \n",
    "        print(\"Enter element of second row\")\n",
    "        for i in range(5):\n",
    "            data[columnName[i]].append(input())\n",
    "            \n",
    "        print(\"Enter element of third row\")\n",
    "        for i in range(5):\n",
    "            data[columnName[i]].append(input())\n",
    "            \n",
    "        print(\"Enter element of fourth row\")\n",
    "        for i in range(5):\n",
    "            data[columnName[i]].append(input())\n",
    "                \n",
    "        df = pd.DataFrame(data)\n",
    "        \n",
    "    elif dataChoice == 3:\n",
    "        filePath = input(\"Enter file name : \")\n",
    "        df = pd.read_csv(filePath)\n",
    "    \n",
    "    else:    \n",
    "        print(\"DataFrame Creation failed try again properly\")\n",
    "        \n",
    "    return df"
   ]
  },
  {
   "cell_type": "code",
   "execution_count": 5,
   "metadata": {},
   "outputs": [],
   "source": [
    "def printPlot():\n",
    "    option = int(input(\"Press 1 for plotting all columns, Press 2 for specifying the columns to print : \"))\n",
    "    if option == 1:\n",
    "        print(\"Select the type of plot you wan't to plot by entering 1 to 6\")\n",
    "        print(\"1. Line Plot\")\n",
    "        print(\"2. Scatter Plot\")\n",
    "        print(\"3. Bar Plot\")\n",
    "        print(\"4. Histogram\")\n",
    "        print(\"5. Box Plot\")\n",
    "        print(\"6. Sutface Plot\")\n",
    "        typePlot = int(input())\n",
    "        if typePlot == 1:\n",
    "            df.iplot(kind = \"line\")\n",
    "        elif typePlot == 2:\n",
    "            df.iplot(kind = \"scatter\")\n",
    "        elif typePlot == 3:\n",
    "            df.iplot(kind = \"bar\")\n",
    "        elif typePlot == 4:\n",
    "            df.iplot(kind = \"hist\")\n",
    "        elif typePlot == 5:\n",
    "            df.iplot(kind = \"box\")\n",
    "        elif typePlot == 6:\n",
    "            df.iplot(kind = \"surface\")\n",
    "    elif option == 2:\n",
    "        print(\"Select the type of plot you wan't to plot by entering 1 to 7\")\n",
    "        print(\"1. Line Plot\")\n",
    "        print(\"2. Scatter Plot\")\n",
    "        print(\"3. Bar Plot\")\n",
    "        print(\"4. Histogram\")\n",
    "        print(\"5. Box Plot\")\n",
    "        print(\"6. Sutface Plot\")\n",
    "        print(\"7. Bubble Plot\")\n",
    "        typePlot = int(input())\n",
    "        if (typePlot == 1) or (typePlot == 2) or (typePlot == 3) or (typePlot == 4) or (typePlot == 5): \n",
    "            columnNumber = int(input(\"Enter the numbers of columns you wan't to plot by selecting 1, 2 or 3 : \"))\n",
    "            if columnNumber == 1:\n",
    "                columnsList = []\n",
    "                columnsList.append(input(\"First Column : \"))\n",
    "            elif columnNumber == 2:\n",
    "                columnsList = []\n",
    "                columnsList.append(input(\"First Column : \"))\n",
    "                columnsList.append(input(\"Second Column : \"))\n",
    "            elif columnNumber == 3:\n",
    "                columnsList = []\n",
    "                columnsList.append(input(\"First Column : \"))\n",
    "                columnsList.append(input(\"Second Column : \"))\n",
    "                columnsList.append(input(\"Third Column : \"))\n",
    "            else:\n",
    "                print(\"Please Enter Currect Number of columns!\")\n",
    "                return\n",
    "            if typePlot == 1:\n",
    "                df[columnsList].iplot(kind = \"line\") \n",
    "            if typePlot == 2:\n",
    "                df[columnsList].iplot(kind = \"scatter\") \n",
    "            if typePlot == 3:\n",
    "                df[columnsList].iplot(kind = \"bar\") \n",
    "            if typePlot == 4:\n",
    "                df[columnsList].iplot(kind = \"hist\") \n",
    "            if typePlot == 5:\n",
    "                df[columnsList].iplot(kind = \"box\")\n",
    "        elif (typePlot == 6) or (typePlot == 7):\n",
    "            columnNumber = int(input(\"Enter the numbers of columns you wan't to plot by selecting 1, 2 or 3 : \"))\n",
    "            if columnNumber == 1:\n",
    "                print(\"Bubble and Surface plots required more than one column argumens!\")\n",
    "                return  \n",
    "            elif columnNumber == 2:\n",
    "                columnsList = []\n",
    "                columnsList.append(input(\"First Column : \"))\n",
    "                columnsList.append(input(\"Second Column : \"))\n",
    "            elif columnNumber == 3:\n",
    "                columnsList = []\n",
    "                columnsList.append(input(\"First Column : \"))\n",
    "                columnsList.append(input(\"Second Column : \"))\n",
    "                columnsList.append(input(\"Third Column : \"))\n",
    "            else:\n",
    "                print(\"Please Enter Currect Number of columns!\")\n",
    "                return\n",
    "            if typePlot == 6:\n",
    "                df[columnsList].iplot(kind = \"surface\")\n",
    "            elif typePlot == 7:\n",
    "                siz = input(\"Please enter the size column from DataFrame head\")\n",
    "                if columnNumber == 2:\n",
    "                    df.iplot(kind = \"bubble\", x = columnsList[0], y = columnsList[1], size = siz)\n",
    "                elif columnNumber == 3:\n",
    "                    df.iplot(kind = \"bubble\", x = columnsList[0], y = columnsList[1], z = columnsList[2], size = siz)\n",
    "        else:\n",
    "            print(\"Please Enter Number Between 1- 7!\")\n",
    "            return\n",
    "    else:\n",
    "        print(\"Please Enter Number 1 or 2\")"
   ]
  },
  {
   "cell_type": "code",
   "execution_count": 6,
   "metadata": {},
   "outputs": [
    {
     "name": "stdout",
     "output_type": "stream",
     "text": [
      "Select the type of Data you wan't to enter (By writing 1, 2 or 3) \n",
      "\n",
      "       1. Random Data with 100 Rows and 5 Columns\n",
      "       2. Create Customize DataFrame\n",
      "       3. Upload CSV/JSON/TEXT file\n",
      "1\n"
     ]
    }
   ],
   "source": [
    "print(\"Select the type of Data you wan't to enter (By writing 1, 2 or 3)\", \"\\n\")\n",
    "print(\"       1. Random Data with 100 Rows and 5 Columns\")\n",
    "print(\"       2. Create Customize DataFrame\")\n",
    "print(\"       3. Upload CSV/JSON/TEXT file\")\n",
    "dataChoice = int(input())\n",
    "df = dataLoad(dataChoice)"
   ]
  },
  {
   "cell_type": "code",
   "execution_count": 7,
   "metadata": {},
   "outputs": [
    {
     "data": {
      "text/html": [
       "<div>\n",
       "<style scoped>\n",
       "    .dataframe tbody tr th:only-of-type {\n",
       "        vertical-align: middle;\n",
       "    }\n",
       "\n",
       "    .dataframe tbody tr th {\n",
       "        vertical-align: top;\n",
       "    }\n",
       "\n",
       "    .dataframe thead th {\n",
       "        text-align: right;\n",
       "    }\n",
       "</style>\n",
       "<table border=\"1\" class=\"dataframe\">\n",
       "  <thead>\n",
       "    <tr style=\"text-align: right;\">\n",
       "      <th></th>\n",
       "      <th>a</th>\n",
       "      <th>b</th>\n",
       "      <th>c</th>\n",
       "      <th>d</th>\n",
       "      <th>e</th>\n",
       "    </tr>\n",
       "  </thead>\n",
       "  <tbody>\n",
       "    <tr>\n",
       "      <th>0</th>\n",
       "      <td>0.424965</td>\n",
       "      <td>0.490720</td>\n",
       "      <td>0.576967</td>\n",
       "      <td>0.563486</td>\n",
       "      <td>0.902529</td>\n",
       "    </tr>\n",
       "    <tr>\n",
       "      <th>1</th>\n",
       "      <td>0.228594</td>\n",
       "      <td>0.947562</td>\n",
       "      <td>0.543751</td>\n",
       "      <td>0.482104</td>\n",
       "      <td>0.401925</td>\n",
       "    </tr>\n",
       "    <tr>\n",
       "      <th>2</th>\n",
       "      <td>0.972029</td>\n",
       "      <td>0.906680</td>\n",
       "      <td>0.673005</td>\n",
       "      <td>0.700023</td>\n",
       "      <td>0.928926</td>\n",
       "    </tr>\n",
       "    <tr>\n",
       "      <th>3</th>\n",
       "      <td>0.567964</td>\n",
       "      <td>0.232920</td>\n",
       "      <td>0.195241</td>\n",
       "      <td>0.690425</td>\n",
       "      <td>0.633832</td>\n",
       "    </tr>\n",
       "    <tr>\n",
       "      <th>4</th>\n",
       "      <td>0.079189</td>\n",
       "      <td>0.755463</td>\n",
       "      <td>0.426154</td>\n",
       "      <td>0.872542</td>\n",
       "      <td>0.235811</td>\n",
       "    </tr>\n",
       "  </tbody>\n",
       "</table>\n",
       "</div>"
      ],
      "text/plain": [
       "          a         b         c         d         e\n",
       "0  0.424965  0.490720  0.576967  0.563486  0.902529\n",
       "1  0.228594  0.947562  0.543751  0.482104  0.401925\n",
       "2  0.972029  0.906680  0.673005  0.700023  0.928926\n",
       "3  0.567964  0.232920  0.195241  0.690425  0.633832\n",
       "4  0.079189  0.755463  0.426154  0.872542  0.235811"
      ]
     },
     "execution_count": 7,
     "metadata": {},
     "output_type": "execute_result"
    }
   ],
   "source": [
    "df.head()"
   ]
  },
  {
   "cell_type": "code",
   "execution_count": 9,
   "metadata": {},
   "outputs": [
    {
     "name": "stdout",
     "output_type": "stream",
     "text": [
      "What kind of plot you need, for complete data or for specific columns\n",
      "Press 1 for plotting all columns, Press 2 for specifying the columns to print : 2\n",
      "Select the type of plot you wan't to plot by entering 1 to 7\n",
      "1. Line Plot\n",
      "2. Scatter Plot\n",
      "3. Bar Plot\n",
      "4. Histogram\n",
      "5. Box Plot\n",
      "6. Sutface Plot\n",
      "7. Bubble Plot\n",
      "7\n",
      "Enter the numbers of columns you wan't to plot by selecting 1, 2 or 3 : 3\n",
      "First Column : a\n",
      "Second Column : b\n",
      "Third Column : c\n",
      "Please enter the size column from DataFrame heade\n"
     ]
    },
    {
     "data": {
      "application/vnd.plotly.v1+json": {
       "config": {
        "linkText": "Export to plot.ly",
        "plotlyServerURL": "https://plot.ly",
        "showLink": true
       },
       "data": [
        {
         "marker": {
          "color": [
           "rgb(255, 153, 51)",
           "rgb(55, 128, 191)",
           "rgb(50, 171, 96)",
           "rgb(128, 0, 128)",
           "rgb(219, 64, 82)",
           "rgb(0, 128, 128)",
           "rgb(255, 255, 51)",
           "rgb(128, 128, 0)",
           "rgb(251, 128, 114)",
           "rgb(128, 177, 211)"
          ],
          "line": {
           "width": 1.3
          },
          "size": [
           102,
           51,
           104,
           74,
           34,
           24,
           109,
           40,
           28,
           64,
           61,
           41,
           49,
           31,
           107,
           65,
           76,
           16,
           33,
           37,
           110,
           86,
           23,
           17,
           78,
           112,
           99,
           29,
           46,
           60,
           35,
           31,
           100,
           12,
           88,
           101,
           24,
           13,
           64,
           28,
           65,
           61,
           82,
           63,
           91,
           36,
           13,
           29,
           58,
           79,
           64,
           39,
           52,
           33,
           21,
           95,
           70,
           70,
           84,
           27,
           31,
           32,
           106,
           33,
           35,
           97,
           43,
           12,
           12,
           97,
           102,
           78,
           52,
           104,
           100,
           79,
           37,
           107,
           26,
           80,
           31,
           50,
           59,
           21,
           50,
           50,
           84,
           75,
           78,
           45,
           66,
           64,
           57,
           23,
           61,
           75,
           20,
           35,
           78,
           105
          ],
          "symbol": "circle"
         },
         "mode": "markers",
         "text": "",
         "type": "scatter",
         "x": [
          0.42496501704904455,
          0.22859350723835792,
          0.9720294258159071,
          0.5679644738199144,
          0.07918926623706879,
          0.07242744470010898,
          0.4859934885940367,
          0.43643948385529885,
          0.03447390527556449,
          0.5606955813600691,
          0.29302320438135065,
          0.9243277492935915,
          0.9363903179367916,
          0.05323137622160212,
          0.3061232017572033,
          0.8521996800239939,
          0.11638465897070993,
          0.2832451224842433,
          0.4418479031996315,
          0.23516615356515713,
          0.7039673577845128,
          0.5351576504612701,
          0.9973862107142947,
          0.3745795099850865,
          0.0019497936262360405,
          0.36836171794679273,
          0.15001761525192214,
          0.6887254787753324,
          0.4766215005999934,
          0.4237631482999583,
          0.312765681879115,
          0.6135752018545094,
          0.18676226939544993,
          0.7983873008587489,
          0.1111769783770441,
          0.7167625169936529,
          0.12670453162034168,
          0.9235334576081625,
          0.9856067997393859,
          0.2981417415925953,
          0.6784009897345213,
          0.8224606897450066,
          0.6832249496970553,
          0.6930782031349703,
          0.14817063859663093,
          0.9619672166701047,
          0.018933353522056273,
          0.4408104422475565,
          0.7388216657417083,
          0.6413931819520564,
          0.9008421414648601,
          0.19744000296250275,
          0.721511257354428,
          0.5055992667032094,
          0.8000517924647733,
          0.7276966429152357,
          0.6618387744276097,
          0.037326601355265554,
          0.8321835633731361,
          0.8910624973625103,
          0.922773365504299,
          0.21711788983947322,
          0.9274534758560734,
          0.4553053776864172,
          0.49751833170335613,
          0.766515777949645,
          0.7875328248121521,
          0.2594310769961474,
          0.3984483560942824,
          0.3113813626448506,
          0.6571386620224317,
          0.7171225952246355,
          0.86010219163416,
          0.2009566349053673,
          0.2748554529990055,
          0.08563059565797637,
          0.5180438436903403,
          0.8994719754641451,
          0.6176678020971621,
          0.951985372342714,
          0.4078483017402613,
          0.35373144818498803,
          0.0934647416687775,
          0.7085927390292266,
          0.6684373084429708,
          0.6852145162730944,
          0.31379503023352184,
          0.8405459714482965,
          0.35348215917802783,
          0.8674838409032433,
          0.4358298269930676,
          0.2501173744013364,
          0.6444596167224137,
          0.8314727407419537,
          0.8191741055894086,
          0.5782992682545982,
          0.7771087661781354,
          0.6186315764468321,
          0.869792006571057,
          0.7350890265157671
         ],
         "y": [
          0.490720080861312,
          0.9475621735553956,
          0.9066798864454789,
          0.2329201670538953,
          0.7554631922050428,
          0.18391200215799863,
          0.7674516426588878,
          0.32295414379957865,
          0.22888336905705864,
          0.09069662483124774,
          0.6009347339055577,
          0.37753082822281214,
          0.6424863294284754,
          0.9240254801153167,
          0.09374674815699857,
          0.5336093421453372,
          0.4971227789351782,
          0.9683921647478789,
          0.9103217727851663,
          0.9225138027712383,
          0.3835963333452126,
          0.5513468887507578,
          0.19360731943631804,
          0.4390635085674829,
          0.5584601264808547,
          0.13173674041021133,
          0.9898677260852438,
          0.29738613958196225,
          0.5527873490852862,
          0.4845771614112513,
          0.07773270504569796,
          0.42216507887825705,
          0.7465080163521444,
          0.9668174448969556,
          0.19075188471001414,
          0.8093423328738222,
          0.9710569732084469,
          0.5403753036506306,
          0.18391637475647682,
          0.5226307717987579,
          0.2574179014559551,
          0.4045076963114411,
          0.3717947513663701,
          0.6949738166274091,
          0.3111362810988132,
          0.575724190384532,
          0.8614839579480374,
          0.44788086376314984,
          0.2969717657939156,
          0.34898430437747585,
          0.6367503448975007,
          0.3161559072492426,
          0.6927767445604175,
          0.609673722464679,
          0.8014073662732064,
          0.7661717328217349,
          0.08673433941858044,
          0.3642242199341055,
          0.4142027606871349,
          0.21643746108528605,
          0.9717075447005499,
          0.36103382457465283,
          0.3898944419245016,
          0.27791302594018596,
          0.5277320600954583,
          0.5914404790313568,
          0.595867504570386,
          0.8919805159526469,
          0.7645764486644724,
          0.1261757032919909,
          0.10972944344702074,
          0.40540632249195196,
          0.24910700177511635,
          0.8431156525191117,
          0.653885089981332,
          0.7824191154018775,
          0.04111559443080193,
          0.8572250519469006,
          0.8734825679039875,
          0.10475314588759188,
          0.8076770073698702,
          0.3407034750171367,
          0.2550395480187527,
          0.6227710518523352,
          0.2042607106514912,
          0.07266414842196278,
          0.5098488030980789,
          0.0013934381062586931,
          0.4330555134577577,
          0.9712447919471362,
          0.8919336725473244,
          0.5881022122884614,
          0.42677735091152413,
          0.7314902113719131,
          0.2529906461654956,
          0.04696080484725784,
          0.5392974735167007,
          0.6256066738271169,
          0.3919524893172922,
          0.4143564332197338
         ]
        }
       ],
       "layout": {
        "legend": {
         "bgcolor": "#F5F6F9",
         "font": {
          "color": "#4D5663"
         }
        },
        "paper_bgcolor": "#F5F6F9",
        "plot_bgcolor": "#F5F6F9",
        "template": {
         "data": {
          "bar": [
           {
            "error_x": {
             "color": "#2a3f5f"
            },
            "error_y": {
             "color": "#2a3f5f"
            },
            "marker": {
             "line": {
              "color": "#E5ECF6",
              "width": 0.5
             }
            },
            "type": "bar"
           }
          ],
          "barpolar": [
           {
            "marker": {
             "line": {
              "color": "#E5ECF6",
              "width": 0.5
             }
            },
            "type": "barpolar"
           }
          ],
          "carpet": [
           {
            "aaxis": {
             "endlinecolor": "#2a3f5f",
             "gridcolor": "white",
             "linecolor": "white",
             "minorgridcolor": "white",
             "startlinecolor": "#2a3f5f"
            },
            "baxis": {
             "endlinecolor": "#2a3f5f",
             "gridcolor": "white",
             "linecolor": "white",
             "minorgridcolor": "white",
             "startlinecolor": "#2a3f5f"
            },
            "type": "carpet"
           }
          ],
          "choropleth": [
           {
            "colorbar": {
             "outlinewidth": 0,
             "ticks": ""
            },
            "type": "choropleth"
           }
          ],
          "contour": [
           {
            "colorbar": {
             "outlinewidth": 0,
             "ticks": ""
            },
            "colorscale": [
             [
              0,
              "#0d0887"
             ],
             [
              0.1111111111111111,
              "#46039f"
             ],
             [
              0.2222222222222222,
              "#7201a8"
             ],
             [
              0.3333333333333333,
              "#9c179e"
             ],
             [
              0.4444444444444444,
              "#bd3786"
             ],
             [
              0.5555555555555556,
              "#d8576b"
             ],
             [
              0.6666666666666666,
              "#ed7953"
             ],
             [
              0.7777777777777778,
              "#fb9f3a"
             ],
             [
              0.8888888888888888,
              "#fdca26"
             ],
             [
              1,
              "#f0f921"
             ]
            ],
            "type": "contour"
           }
          ],
          "contourcarpet": [
           {
            "colorbar": {
             "outlinewidth": 0,
             "ticks": ""
            },
            "type": "contourcarpet"
           }
          ],
          "heatmap": [
           {
            "colorbar": {
             "outlinewidth": 0,
             "ticks": ""
            },
            "colorscale": [
             [
              0,
              "#0d0887"
             ],
             [
              0.1111111111111111,
              "#46039f"
             ],
             [
              0.2222222222222222,
              "#7201a8"
             ],
             [
              0.3333333333333333,
              "#9c179e"
             ],
             [
              0.4444444444444444,
              "#bd3786"
             ],
             [
              0.5555555555555556,
              "#d8576b"
             ],
             [
              0.6666666666666666,
              "#ed7953"
             ],
             [
              0.7777777777777778,
              "#fb9f3a"
             ],
             [
              0.8888888888888888,
              "#fdca26"
             ],
             [
              1,
              "#f0f921"
             ]
            ],
            "type": "heatmap"
           }
          ],
          "heatmapgl": [
           {
            "colorbar": {
             "outlinewidth": 0,
             "ticks": ""
            },
            "colorscale": [
             [
              0,
              "#0d0887"
             ],
             [
              0.1111111111111111,
              "#46039f"
             ],
             [
              0.2222222222222222,
              "#7201a8"
             ],
             [
              0.3333333333333333,
              "#9c179e"
             ],
             [
              0.4444444444444444,
              "#bd3786"
             ],
             [
              0.5555555555555556,
              "#d8576b"
             ],
             [
              0.6666666666666666,
              "#ed7953"
             ],
             [
              0.7777777777777778,
              "#fb9f3a"
             ],
             [
              0.8888888888888888,
              "#fdca26"
             ],
             [
              1,
              "#f0f921"
             ]
            ],
            "type": "heatmapgl"
           }
          ],
          "histogram": [
           {
            "marker": {
             "colorbar": {
              "outlinewidth": 0,
              "ticks": ""
             }
            },
            "type": "histogram"
           }
          ],
          "histogram2d": [
           {
            "colorbar": {
             "outlinewidth": 0,
             "ticks": ""
            },
            "colorscale": [
             [
              0,
              "#0d0887"
             ],
             [
              0.1111111111111111,
              "#46039f"
             ],
             [
              0.2222222222222222,
              "#7201a8"
             ],
             [
              0.3333333333333333,
              "#9c179e"
             ],
             [
              0.4444444444444444,
              "#bd3786"
             ],
             [
              0.5555555555555556,
              "#d8576b"
             ],
             [
              0.6666666666666666,
              "#ed7953"
             ],
             [
              0.7777777777777778,
              "#fb9f3a"
             ],
             [
              0.8888888888888888,
              "#fdca26"
             ],
             [
              1,
              "#f0f921"
             ]
            ],
            "type": "histogram2d"
           }
          ],
          "histogram2dcontour": [
           {
            "colorbar": {
             "outlinewidth": 0,
             "ticks": ""
            },
            "colorscale": [
             [
              0,
              "#0d0887"
             ],
             [
              0.1111111111111111,
              "#46039f"
             ],
             [
              0.2222222222222222,
              "#7201a8"
             ],
             [
              0.3333333333333333,
              "#9c179e"
             ],
             [
              0.4444444444444444,
              "#bd3786"
             ],
             [
              0.5555555555555556,
              "#d8576b"
             ],
             [
              0.6666666666666666,
              "#ed7953"
             ],
             [
              0.7777777777777778,
              "#fb9f3a"
             ],
             [
              0.8888888888888888,
              "#fdca26"
             ],
             [
              1,
              "#f0f921"
             ]
            ],
            "type": "histogram2dcontour"
           }
          ],
          "mesh3d": [
           {
            "colorbar": {
             "outlinewidth": 0,
             "ticks": ""
            },
            "type": "mesh3d"
           }
          ],
          "parcoords": [
           {
            "line": {
             "colorbar": {
              "outlinewidth": 0,
              "ticks": ""
             }
            },
            "type": "parcoords"
           }
          ],
          "pie": [
           {
            "automargin": true,
            "type": "pie"
           }
          ],
          "scatter": [
           {
            "marker": {
             "colorbar": {
              "outlinewidth": 0,
              "ticks": ""
             }
            },
            "type": "scatter"
           }
          ],
          "scatter3d": [
           {
            "line": {
             "colorbar": {
              "outlinewidth": 0,
              "ticks": ""
             }
            },
            "marker": {
             "colorbar": {
              "outlinewidth": 0,
              "ticks": ""
             }
            },
            "type": "scatter3d"
           }
          ],
          "scattercarpet": [
           {
            "marker": {
             "colorbar": {
              "outlinewidth": 0,
              "ticks": ""
             }
            },
            "type": "scattercarpet"
           }
          ],
          "scattergeo": [
           {
            "marker": {
             "colorbar": {
              "outlinewidth": 0,
              "ticks": ""
             }
            },
            "type": "scattergeo"
           }
          ],
          "scattergl": [
           {
            "marker": {
             "colorbar": {
              "outlinewidth": 0,
              "ticks": ""
             }
            },
            "type": "scattergl"
           }
          ],
          "scattermapbox": [
           {
            "marker": {
             "colorbar": {
              "outlinewidth": 0,
              "ticks": ""
             }
            },
            "type": "scattermapbox"
           }
          ],
          "scatterpolar": [
           {
            "marker": {
             "colorbar": {
              "outlinewidth": 0,
              "ticks": ""
             }
            },
            "type": "scatterpolar"
           }
          ],
          "scatterpolargl": [
           {
            "marker": {
             "colorbar": {
              "outlinewidth": 0,
              "ticks": ""
             }
            },
            "type": "scatterpolargl"
           }
          ],
          "scatterternary": [
           {
            "marker": {
             "colorbar": {
              "outlinewidth": 0,
              "ticks": ""
             }
            },
            "type": "scatterternary"
           }
          ],
          "surface": [
           {
            "colorbar": {
             "outlinewidth": 0,
             "ticks": ""
            },
            "colorscale": [
             [
              0,
              "#0d0887"
             ],
             [
              0.1111111111111111,
              "#46039f"
             ],
             [
              0.2222222222222222,
              "#7201a8"
             ],
             [
              0.3333333333333333,
              "#9c179e"
             ],
             [
              0.4444444444444444,
              "#bd3786"
             ],
             [
              0.5555555555555556,
              "#d8576b"
             ],
             [
              0.6666666666666666,
              "#ed7953"
             ],
             [
              0.7777777777777778,
              "#fb9f3a"
             ],
             [
              0.8888888888888888,
              "#fdca26"
             ],
             [
              1,
              "#f0f921"
             ]
            ],
            "type": "surface"
           }
          ],
          "table": [
           {
            "cells": {
             "fill": {
              "color": "#EBF0F8"
             },
             "line": {
              "color": "white"
             }
            },
            "header": {
             "fill": {
              "color": "#C8D4E3"
             },
             "line": {
              "color": "white"
             }
            },
            "type": "table"
           }
          ]
         },
         "layout": {
          "annotationdefaults": {
           "arrowcolor": "#2a3f5f",
           "arrowhead": 0,
           "arrowwidth": 1
          },
          "coloraxis": {
           "colorbar": {
            "outlinewidth": 0,
            "ticks": ""
           }
          },
          "colorscale": {
           "diverging": [
            [
             0,
             "#8e0152"
            ],
            [
             0.1,
             "#c51b7d"
            ],
            [
             0.2,
             "#de77ae"
            ],
            [
             0.3,
             "#f1b6da"
            ],
            [
             0.4,
             "#fde0ef"
            ],
            [
             0.5,
             "#f7f7f7"
            ],
            [
             0.6,
             "#e6f5d0"
            ],
            [
             0.7,
             "#b8e186"
            ],
            [
             0.8,
             "#7fbc41"
            ],
            [
             0.9,
             "#4d9221"
            ],
            [
             1,
             "#276419"
            ]
           ],
           "sequential": [
            [
             0,
             "#0d0887"
            ],
            [
             0.1111111111111111,
             "#46039f"
            ],
            [
             0.2222222222222222,
             "#7201a8"
            ],
            [
             0.3333333333333333,
             "#9c179e"
            ],
            [
             0.4444444444444444,
             "#bd3786"
            ],
            [
             0.5555555555555556,
             "#d8576b"
            ],
            [
             0.6666666666666666,
             "#ed7953"
            ],
            [
             0.7777777777777778,
             "#fb9f3a"
            ],
            [
             0.8888888888888888,
             "#fdca26"
            ],
            [
             1,
             "#f0f921"
            ]
           ],
           "sequentialminus": [
            [
             0,
             "#0d0887"
            ],
            [
             0.1111111111111111,
             "#46039f"
            ],
            [
             0.2222222222222222,
             "#7201a8"
            ],
            [
             0.3333333333333333,
             "#9c179e"
            ],
            [
             0.4444444444444444,
             "#bd3786"
            ],
            [
             0.5555555555555556,
             "#d8576b"
            ],
            [
             0.6666666666666666,
             "#ed7953"
            ],
            [
             0.7777777777777778,
             "#fb9f3a"
            ],
            [
             0.8888888888888888,
             "#fdca26"
            ],
            [
             1,
             "#f0f921"
            ]
           ]
          },
          "colorway": [
           "#636efa",
           "#EF553B",
           "#00cc96",
           "#ab63fa",
           "#FFA15A",
           "#19d3f3",
           "#FF6692",
           "#B6E880",
           "#FF97FF",
           "#FECB52"
          ],
          "font": {
           "color": "#2a3f5f"
          },
          "geo": {
           "bgcolor": "white",
           "lakecolor": "white",
           "landcolor": "#E5ECF6",
           "showlakes": true,
           "showland": true,
           "subunitcolor": "white"
          },
          "hoverlabel": {
           "align": "left"
          },
          "hovermode": "closest",
          "mapbox": {
           "style": "light"
          },
          "paper_bgcolor": "white",
          "plot_bgcolor": "#E5ECF6",
          "polar": {
           "angularaxis": {
            "gridcolor": "white",
            "linecolor": "white",
            "ticks": ""
           },
           "bgcolor": "#E5ECF6",
           "radialaxis": {
            "gridcolor": "white",
            "linecolor": "white",
            "ticks": ""
           }
          },
          "scene": {
           "xaxis": {
            "backgroundcolor": "#E5ECF6",
            "gridcolor": "white",
            "gridwidth": 2,
            "linecolor": "white",
            "showbackground": true,
            "ticks": "",
            "zerolinecolor": "white"
           },
           "yaxis": {
            "backgroundcolor": "#E5ECF6",
            "gridcolor": "white",
            "gridwidth": 2,
            "linecolor": "white",
            "showbackground": true,
            "ticks": "",
            "zerolinecolor": "white"
           },
           "zaxis": {
            "backgroundcolor": "#E5ECF6",
            "gridcolor": "white",
            "gridwidth": 2,
            "linecolor": "white",
            "showbackground": true,
            "ticks": "",
            "zerolinecolor": "white"
           }
          },
          "shapedefaults": {
           "line": {
            "color": "#2a3f5f"
           }
          },
          "ternary": {
           "aaxis": {
            "gridcolor": "white",
            "linecolor": "white",
            "ticks": ""
           },
           "baxis": {
            "gridcolor": "white",
            "linecolor": "white",
            "ticks": ""
           },
           "bgcolor": "#E5ECF6",
           "caxis": {
            "gridcolor": "white",
            "linecolor": "white",
            "ticks": ""
           }
          },
          "title": {
           "x": 0.05
          },
          "xaxis": {
           "automargin": true,
           "gridcolor": "white",
           "linecolor": "white",
           "ticks": "",
           "title": {
            "standoff": 15
           },
           "zerolinecolor": "white",
           "zerolinewidth": 2
          },
          "yaxis": {
           "automargin": true,
           "gridcolor": "white",
           "linecolor": "white",
           "ticks": "",
           "title": {
            "standoff": 15
           },
           "zerolinecolor": "white",
           "zerolinewidth": 2
          }
         }
        },
        "title": {
         "font": {
          "color": "#4D5663"
         }
        },
        "xaxis": {
         "gridcolor": "#E1E5ED",
         "showgrid": true,
         "tickfont": {
          "color": "#4D5663"
         },
         "title": {
          "font": {
           "color": "#4D5663"
          },
          "text": ""
         },
         "zerolinecolor": "#E1E5ED"
        },
        "yaxis": {
         "gridcolor": "#E1E5ED",
         "showgrid": true,
         "tickfont": {
          "color": "#4D5663"
         },
         "title": {
          "font": {
           "color": "#4D5663"
          },
          "text": ""
         },
         "zerolinecolor": "#E1E5ED"
        }
       }
      },
      "text/html": [
       "<div>\n",
       "        \n",
       "        \n",
       "            <div id=\"43a5158f-d46e-417a-aeda-94991f550f59\" class=\"plotly-graph-div\" style=\"height:525px; width:100%;\"></div>\n",
       "            <script type=\"text/javascript\">\n",
       "                require([\"plotly\"], function(Plotly) {\n",
       "                    window.PLOTLYENV=window.PLOTLYENV || {};\n",
       "                    window.PLOTLYENV.BASE_URL='https://plot.ly';\n",
       "                    \n",
       "                if (document.getElementById(\"43a5158f-d46e-417a-aeda-94991f550f59\")) {\n",
       "                    Plotly.newPlot(\n",
       "                        '43a5158f-d46e-417a-aeda-94991f550f59',\n",
       "                        [{\"marker\": {\"color\": [\"rgb(255, 153, 51)\", \"rgb(55, 128, 191)\", \"rgb(50, 171, 96)\", \"rgb(128, 0, 128)\", \"rgb(219, 64, 82)\", \"rgb(0, 128, 128)\", \"rgb(255, 255, 51)\", \"rgb(128, 128, 0)\", \"rgb(251, 128, 114)\", \"rgb(128, 177, 211)\"], \"line\": {\"width\": 1.3}, \"size\": [102, 51, 104, 74, 34, 24, 109, 40, 28, 64, 61, 41, 49, 31, 107, 65, 76, 16, 33, 37, 110, 86, 23, 17, 78, 112, 99, 29, 46, 60, 35, 31, 100, 12, 88, 101, 24, 13, 64, 28, 65, 61, 82, 63, 91, 36, 13, 29, 58, 79, 64, 39, 52, 33, 21, 95, 70, 70, 84, 27, 31, 32, 106, 33, 35, 97, 43, 12, 12, 97, 102, 78, 52, 104, 100, 79, 37, 107, 26, 80, 31, 50, 59, 21, 50, 50, 84, 75, 78, 45, 66, 64, 57, 23, 61, 75, 20, 35, 78, 105], \"symbol\": \"circle\"}, \"mode\": \"markers\", \"text\": \"\", \"type\": \"scatter\", \"x\": [0.42496501704904455, 0.22859350723835792, 0.9720294258159071, 0.5679644738199144, 0.07918926623706879, 0.07242744470010898, 0.4859934885940367, 0.43643948385529885, 0.03447390527556449, 0.5606955813600691, 0.29302320438135065, 0.9243277492935915, 0.9363903179367916, 0.05323137622160212, 0.3061232017572033, 0.8521996800239939, 0.11638465897070993, 0.2832451224842433, 0.4418479031996315, 0.23516615356515713, 0.7039673577845128, 0.5351576504612701, 0.9973862107142947, 0.3745795099850865, 0.0019497936262360405, 0.36836171794679273, 0.15001761525192214, 0.6887254787753324, 0.4766215005999934, 0.4237631482999583, 0.312765681879115, 0.6135752018545094, 0.18676226939544993, 0.7983873008587489, 0.1111769783770441, 0.7167625169936529, 0.12670453162034168, 0.9235334576081625, 0.9856067997393859, 0.2981417415925953, 0.6784009897345213, 0.8224606897450066, 0.6832249496970553, 0.6930782031349703, 0.14817063859663093, 0.9619672166701047, 0.018933353522056273, 0.4408104422475565, 0.7388216657417083, 0.6413931819520564, 0.9008421414648601, 0.19744000296250275, 0.721511257354428, 0.5055992667032094, 0.8000517924647733, 0.7276966429152357, 0.6618387744276097, 0.037326601355265554, 0.8321835633731361, 0.8910624973625103, 0.922773365504299, 0.21711788983947322, 0.9274534758560734, 0.4553053776864172, 0.49751833170335613, 0.766515777949645, 0.7875328248121521, 0.2594310769961474, 0.3984483560942824, 0.3113813626448506, 0.6571386620224317, 0.7171225952246355, 0.86010219163416, 0.2009566349053673, 0.2748554529990055, 0.08563059565797637, 0.5180438436903403, 0.8994719754641451, 0.6176678020971621, 0.951985372342714, 0.4078483017402613, 0.35373144818498803, 0.0934647416687775, 0.7085927390292266, 0.6684373084429708, 0.6852145162730944, 0.31379503023352184, 0.8405459714482965, 0.35348215917802783, 0.8674838409032433, 0.4358298269930676, 0.2501173744013364, 0.6444596167224137, 0.8314727407419537, 0.8191741055894086, 0.5782992682545982, 0.7771087661781354, 0.6186315764468321, 0.869792006571057, 0.7350890265157671], \"y\": [0.490720080861312, 0.9475621735553956, 0.9066798864454789, 0.2329201670538953, 0.7554631922050428, 0.18391200215799863, 0.7674516426588878, 0.32295414379957865, 0.22888336905705864, 0.09069662483124774, 0.6009347339055577, 0.37753082822281214, 0.6424863294284754, 0.9240254801153167, 0.09374674815699857, 0.5336093421453372, 0.4971227789351782, 0.9683921647478789, 0.9103217727851663, 0.9225138027712383, 0.3835963333452126, 0.5513468887507578, 0.19360731943631804, 0.4390635085674829, 0.5584601264808547, 0.13173674041021133, 0.9898677260852438, 0.29738613958196225, 0.5527873490852862, 0.4845771614112513, 0.07773270504569796, 0.42216507887825705, 0.7465080163521444, 0.9668174448969556, 0.19075188471001414, 0.8093423328738222, 0.9710569732084469, 0.5403753036506306, 0.18391637475647682, 0.5226307717987579, 0.2574179014559551, 0.4045076963114411, 0.3717947513663701, 0.6949738166274091, 0.3111362810988132, 0.575724190384532, 0.8614839579480374, 0.44788086376314984, 0.2969717657939156, 0.34898430437747585, 0.6367503448975007, 0.3161559072492426, 0.6927767445604175, 0.609673722464679, 0.8014073662732064, 0.7661717328217349, 0.08673433941858044, 0.3642242199341055, 0.4142027606871349, 0.21643746108528605, 0.9717075447005499, 0.36103382457465283, 0.3898944419245016, 0.27791302594018596, 0.5277320600954583, 0.5914404790313568, 0.595867504570386, 0.8919805159526469, 0.7645764486644724, 0.1261757032919909, 0.10972944344702074, 0.40540632249195196, 0.24910700177511635, 0.8431156525191117, 0.653885089981332, 0.7824191154018775, 0.04111559443080193, 0.8572250519469006, 0.8734825679039875, 0.10475314588759188, 0.8076770073698702, 0.3407034750171367, 0.2550395480187527, 0.6227710518523352, 0.2042607106514912, 0.07266414842196278, 0.5098488030980789, 0.0013934381062586931, 0.4330555134577577, 0.9712447919471362, 0.8919336725473244, 0.5881022122884614, 0.42677735091152413, 0.7314902113719131, 0.2529906461654956, 0.04696080484725784, 0.5392974735167007, 0.6256066738271169, 0.3919524893172922, 0.4143564332197338]}],\n",
       "                        {\"legend\": {\"bgcolor\": \"#F5F6F9\", \"font\": {\"color\": \"#4D5663\"}}, \"paper_bgcolor\": \"#F5F6F9\", \"plot_bgcolor\": \"#F5F6F9\", \"template\": {\"data\": {\"bar\": [{\"error_x\": {\"color\": \"#2a3f5f\"}, \"error_y\": {\"color\": \"#2a3f5f\"}, \"marker\": {\"line\": {\"color\": \"#E5ECF6\", \"width\": 0.5}}, \"type\": \"bar\"}], \"barpolar\": [{\"marker\": {\"line\": {\"color\": \"#E5ECF6\", \"width\": 0.5}}, \"type\": \"barpolar\"}], \"carpet\": [{\"aaxis\": {\"endlinecolor\": \"#2a3f5f\", \"gridcolor\": \"white\", \"linecolor\": \"white\", \"minorgridcolor\": \"white\", \"startlinecolor\": \"#2a3f5f\"}, \"baxis\": {\"endlinecolor\": \"#2a3f5f\", \"gridcolor\": \"white\", \"linecolor\": \"white\", \"minorgridcolor\": \"white\", \"startlinecolor\": \"#2a3f5f\"}, \"type\": \"carpet\"}], \"choropleth\": [{\"colorbar\": {\"outlinewidth\": 0, \"ticks\": \"\"}, \"type\": \"choropleth\"}], \"contour\": [{\"colorbar\": {\"outlinewidth\": 0, \"ticks\": \"\"}, \"colorscale\": [[0.0, \"#0d0887\"], [0.1111111111111111, \"#46039f\"], [0.2222222222222222, \"#7201a8\"], [0.3333333333333333, \"#9c179e\"], [0.4444444444444444, \"#bd3786\"], [0.5555555555555556, \"#d8576b\"], [0.6666666666666666, \"#ed7953\"], [0.7777777777777778, \"#fb9f3a\"], [0.8888888888888888, \"#fdca26\"], [1.0, \"#f0f921\"]], \"type\": \"contour\"}], \"contourcarpet\": [{\"colorbar\": {\"outlinewidth\": 0, \"ticks\": \"\"}, \"type\": \"contourcarpet\"}], \"heatmap\": [{\"colorbar\": {\"outlinewidth\": 0, \"ticks\": \"\"}, \"colorscale\": [[0.0, \"#0d0887\"], [0.1111111111111111, \"#46039f\"], [0.2222222222222222, \"#7201a8\"], [0.3333333333333333, \"#9c179e\"], [0.4444444444444444, \"#bd3786\"], [0.5555555555555556, \"#d8576b\"], [0.6666666666666666, \"#ed7953\"], [0.7777777777777778, \"#fb9f3a\"], [0.8888888888888888, \"#fdca26\"], [1.0, \"#f0f921\"]], \"type\": \"heatmap\"}], \"heatmapgl\": [{\"colorbar\": {\"outlinewidth\": 0, \"ticks\": \"\"}, \"colorscale\": [[0.0, \"#0d0887\"], [0.1111111111111111, \"#46039f\"], [0.2222222222222222, \"#7201a8\"], [0.3333333333333333, \"#9c179e\"], [0.4444444444444444, \"#bd3786\"], [0.5555555555555556, \"#d8576b\"], [0.6666666666666666, \"#ed7953\"], [0.7777777777777778, \"#fb9f3a\"], [0.8888888888888888, \"#fdca26\"], [1.0, \"#f0f921\"]], \"type\": \"heatmapgl\"}], \"histogram\": [{\"marker\": {\"colorbar\": {\"outlinewidth\": 0, \"ticks\": \"\"}}, \"type\": \"histogram\"}], \"histogram2d\": [{\"colorbar\": {\"outlinewidth\": 0, \"ticks\": \"\"}, \"colorscale\": [[0.0, \"#0d0887\"], [0.1111111111111111, \"#46039f\"], [0.2222222222222222, \"#7201a8\"], [0.3333333333333333, \"#9c179e\"], [0.4444444444444444, \"#bd3786\"], [0.5555555555555556, \"#d8576b\"], [0.6666666666666666, \"#ed7953\"], [0.7777777777777778, \"#fb9f3a\"], [0.8888888888888888, \"#fdca26\"], [1.0, \"#f0f921\"]], \"type\": \"histogram2d\"}], \"histogram2dcontour\": [{\"colorbar\": {\"outlinewidth\": 0, \"ticks\": \"\"}, \"colorscale\": [[0.0, \"#0d0887\"], [0.1111111111111111, \"#46039f\"], [0.2222222222222222, \"#7201a8\"], [0.3333333333333333, \"#9c179e\"], [0.4444444444444444, \"#bd3786\"], [0.5555555555555556, \"#d8576b\"], [0.6666666666666666, \"#ed7953\"], [0.7777777777777778, \"#fb9f3a\"], [0.8888888888888888, \"#fdca26\"], [1.0, \"#f0f921\"]], \"type\": \"histogram2dcontour\"}], \"mesh3d\": [{\"colorbar\": {\"outlinewidth\": 0, \"ticks\": \"\"}, \"type\": \"mesh3d\"}], \"parcoords\": [{\"line\": {\"colorbar\": {\"outlinewidth\": 0, \"ticks\": \"\"}}, \"type\": \"parcoords\"}], \"pie\": [{\"automargin\": true, \"type\": \"pie\"}], \"scatter\": [{\"marker\": {\"colorbar\": {\"outlinewidth\": 0, \"ticks\": \"\"}}, \"type\": \"scatter\"}], \"scatter3d\": [{\"line\": {\"colorbar\": {\"outlinewidth\": 0, \"ticks\": \"\"}}, \"marker\": {\"colorbar\": {\"outlinewidth\": 0, \"ticks\": \"\"}}, \"type\": \"scatter3d\"}], \"scattercarpet\": [{\"marker\": {\"colorbar\": {\"outlinewidth\": 0, \"ticks\": \"\"}}, \"type\": \"scattercarpet\"}], \"scattergeo\": [{\"marker\": {\"colorbar\": {\"outlinewidth\": 0, \"ticks\": \"\"}}, \"type\": \"scattergeo\"}], \"scattergl\": [{\"marker\": {\"colorbar\": {\"outlinewidth\": 0, \"ticks\": \"\"}}, \"type\": \"scattergl\"}], \"scattermapbox\": [{\"marker\": {\"colorbar\": {\"outlinewidth\": 0, \"ticks\": \"\"}}, \"type\": \"scattermapbox\"}], \"scatterpolar\": [{\"marker\": {\"colorbar\": {\"outlinewidth\": 0, \"ticks\": \"\"}}, \"type\": \"scatterpolar\"}], \"scatterpolargl\": [{\"marker\": {\"colorbar\": {\"outlinewidth\": 0, \"ticks\": \"\"}}, \"type\": \"scatterpolargl\"}], \"scatterternary\": [{\"marker\": {\"colorbar\": {\"outlinewidth\": 0, \"ticks\": \"\"}}, \"type\": \"scatterternary\"}], \"surface\": [{\"colorbar\": {\"outlinewidth\": 0, \"ticks\": \"\"}, \"colorscale\": [[0.0, \"#0d0887\"], [0.1111111111111111, \"#46039f\"], [0.2222222222222222, \"#7201a8\"], [0.3333333333333333, \"#9c179e\"], [0.4444444444444444, \"#bd3786\"], [0.5555555555555556, \"#d8576b\"], [0.6666666666666666, \"#ed7953\"], [0.7777777777777778, \"#fb9f3a\"], [0.8888888888888888, \"#fdca26\"], [1.0, \"#f0f921\"]], \"type\": \"surface\"}], \"table\": [{\"cells\": {\"fill\": {\"color\": \"#EBF0F8\"}, \"line\": {\"color\": \"white\"}}, \"header\": {\"fill\": {\"color\": \"#C8D4E3\"}, \"line\": {\"color\": \"white\"}}, \"type\": \"table\"}]}, \"layout\": {\"annotationdefaults\": {\"arrowcolor\": \"#2a3f5f\", \"arrowhead\": 0, \"arrowwidth\": 1}, \"coloraxis\": {\"colorbar\": {\"outlinewidth\": 0, \"ticks\": \"\"}}, \"colorscale\": {\"diverging\": [[0, \"#8e0152\"], [0.1, \"#c51b7d\"], [0.2, \"#de77ae\"], [0.3, \"#f1b6da\"], [0.4, \"#fde0ef\"], [0.5, \"#f7f7f7\"], [0.6, \"#e6f5d0\"], [0.7, \"#b8e186\"], [0.8, \"#7fbc41\"], [0.9, \"#4d9221\"], [1, \"#276419\"]], \"sequential\": [[0.0, \"#0d0887\"], [0.1111111111111111, \"#46039f\"], [0.2222222222222222, \"#7201a8\"], [0.3333333333333333, \"#9c179e\"], [0.4444444444444444, \"#bd3786\"], [0.5555555555555556, \"#d8576b\"], [0.6666666666666666, \"#ed7953\"], [0.7777777777777778, \"#fb9f3a\"], [0.8888888888888888, \"#fdca26\"], [1.0, \"#f0f921\"]], \"sequentialminus\": [[0.0, \"#0d0887\"], [0.1111111111111111, \"#46039f\"], [0.2222222222222222, \"#7201a8\"], [0.3333333333333333, \"#9c179e\"], [0.4444444444444444, \"#bd3786\"], [0.5555555555555556, \"#d8576b\"], [0.6666666666666666, \"#ed7953\"], [0.7777777777777778, \"#fb9f3a\"], [0.8888888888888888, \"#fdca26\"], [1.0, \"#f0f921\"]]}, \"colorway\": [\"#636efa\", \"#EF553B\", \"#00cc96\", \"#ab63fa\", \"#FFA15A\", \"#19d3f3\", \"#FF6692\", \"#B6E880\", \"#FF97FF\", \"#FECB52\"], \"font\": {\"color\": \"#2a3f5f\"}, \"geo\": {\"bgcolor\": \"white\", \"lakecolor\": \"white\", \"landcolor\": \"#E5ECF6\", \"showlakes\": true, \"showland\": true, \"subunitcolor\": \"white\"}, \"hoverlabel\": {\"align\": \"left\"}, \"hovermode\": \"closest\", \"mapbox\": {\"style\": \"light\"}, \"paper_bgcolor\": \"white\", \"plot_bgcolor\": \"#E5ECF6\", \"polar\": {\"angularaxis\": {\"gridcolor\": \"white\", \"linecolor\": \"white\", \"ticks\": \"\"}, \"bgcolor\": \"#E5ECF6\", \"radialaxis\": {\"gridcolor\": \"white\", \"linecolor\": \"white\", \"ticks\": \"\"}}, \"scene\": {\"xaxis\": {\"backgroundcolor\": \"#E5ECF6\", \"gridcolor\": \"white\", \"gridwidth\": 2, \"linecolor\": \"white\", \"showbackground\": true, \"ticks\": \"\", \"zerolinecolor\": \"white\"}, \"yaxis\": {\"backgroundcolor\": \"#E5ECF6\", \"gridcolor\": \"white\", \"gridwidth\": 2, \"linecolor\": \"white\", \"showbackground\": true, \"ticks\": \"\", \"zerolinecolor\": \"white\"}, \"zaxis\": {\"backgroundcolor\": \"#E5ECF6\", \"gridcolor\": \"white\", \"gridwidth\": 2, \"linecolor\": \"white\", \"showbackground\": true, \"ticks\": \"\", \"zerolinecolor\": \"white\"}}, \"shapedefaults\": {\"line\": {\"color\": \"#2a3f5f\"}}, \"ternary\": {\"aaxis\": {\"gridcolor\": \"white\", \"linecolor\": \"white\", \"ticks\": \"\"}, \"baxis\": {\"gridcolor\": \"white\", \"linecolor\": \"white\", \"ticks\": \"\"}, \"bgcolor\": \"#E5ECF6\", \"caxis\": {\"gridcolor\": \"white\", \"linecolor\": \"white\", \"ticks\": \"\"}}, \"title\": {\"x\": 0.05}, \"xaxis\": {\"automargin\": true, \"gridcolor\": \"white\", \"linecolor\": \"white\", \"ticks\": \"\", \"title\": {\"standoff\": 15}, \"zerolinecolor\": \"white\", \"zerolinewidth\": 2}, \"yaxis\": {\"automargin\": true, \"gridcolor\": \"white\", \"linecolor\": \"white\", \"ticks\": \"\", \"title\": {\"standoff\": 15}, \"zerolinecolor\": \"white\", \"zerolinewidth\": 2}}}, \"title\": {\"font\": {\"color\": \"#4D5663\"}}, \"xaxis\": {\"gridcolor\": \"#E1E5ED\", \"showgrid\": true, \"tickfont\": {\"color\": \"#4D5663\"}, \"title\": {\"font\": {\"color\": \"#4D5663\"}, \"text\": \"\"}, \"zerolinecolor\": \"#E1E5ED\"}, \"yaxis\": {\"gridcolor\": \"#E1E5ED\", \"showgrid\": true, \"tickfont\": {\"color\": \"#4D5663\"}, \"title\": {\"font\": {\"color\": \"#4D5663\"}, \"text\": \"\"}, \"zerolinecolor\": \"#E1E5ED\"}},\n",
       "                        {\"showLink\": true, \"linkText\": \"Export to plot.ly\", \"plotlyServerURL\": \"https://plot.ly\", \"responsive\": true}\n",
       "                    ).then(function(){\n",
       "                            \n",
       "var gd = document.getElementById('43a5158f-d46e-417a-aeda-94991f550f59');\n",
       "var x = new MutationObserver(function (mutations, observer) {{\n",
       "        var display = window.getComputedStyle(gd).display;\n",
       "        if (!display || display === 'none') {{\n",
       "            console.log([gd, 'removed!']);\n",
       "            Plotly.purge(gd);\n",
       "            observer.disconnect();\n",
       "        }}\n",
       "}});\n",
       "\n",
       "// Listen for the removal of the full notebook cells\n",
       "var notebookContainer = gd.closest('#notebook-container');\n",
       "if (notebookContainer) {{\n",
       "    x.observe(notebookContainer, {childList: true});\n",
       "}}\n",
       "\n",
       "// Listen for the clearing of the current output cell\n",
       "var outputEl = gd.closest('.output');\n",
       "if (outputEl) {{\n",
       "    x.observe(outputEl, {childList: true});\n",
       "}}\n",
       "\n",
       "                        })\n",
       "                };\n",
       "                });\n",
       "            </script>\n",
       "        </div>"
      ]
     },
     "metadata": {},
     "output_type": "display_data"
    }
   ],
   "source": [
    "print(\"What kind of plot you need, for complete data or for specific columns\")\n",
    "printPlot()"
   ]
  },
  {
   "cell_type": "code",
   "execution_count": null,
   "metadata": {},
   "outputs": [],
   "source": [
    "df"
   ]
  },
  {
   "cell_type": "code",
   "execution_count": null,
   "metadata": {},
   "outputs": [],
   "source": []
  }
 ],
 "metadata": {
  "kernelspec": {
   "display_name": "Python 3",
   "language": "python",
   "name": "python3"
  },
  "language_info": {
   "codemirror_mode": {
    "name": "ipython",
    "version": 3
   },
   "file_extension": ".py",
   "mimetype": "text/x-python",
   "name": "python",
   "nbconvert_exporter": "python",
   "pygments_lexer": "ipython3",
   "version": "3.7.1"
  }
 },
 "nbformat": 4,
 "nbformat_minor": 2
}
